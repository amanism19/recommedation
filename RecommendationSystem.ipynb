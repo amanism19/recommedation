{
 "cells": [
  {
   "cell_type": "code",
   "execution_count": 1,
   "id": "77c95f81",
   "metadata": {
    "execution": {
     "iopub.execute_input": "2024-05-05T09:10:31.977583Z",
     "iopub.status.busy": "2024-05-05T09:10:31.977220Z",
     "iopub.status.idle": "2024-05-05T09:10:32.735490Z",
     "shell.execute_reply": "2024-05-05T09:10:32.734530Z"
    },
    "id": "KlFjoBfFXolz",
    "outputId": "e2ebd483-af34-4d15-e271-ef275e7e85d5",
    "papermill": {
     "duration": 0.785627,
     "end_time": "2024-05-05T09:10:32.737848",
     "exception": false,
     "start_time": "2024-05-05T09:10:31.952221",
     "status": "completed"
    },
    "tags": []
   },
   "outputs": [],
   "source": [
    "import warnings\n",
    "warnings.filterwarnings(\"ignore\")\n",
    "import os\n",
    "from datetime import datetime\n",
    "import pandas as pd\n",
    "import numpy as np\n",
    "globalstart = datetime.now()"
   ]
  },
  {
   "cell_type": "code",
   "execution_count": 2,
   "id": "6e9955c7",
   "metadata": {
    "execution": {
     "iopub.execute_input": "2024-05-05T09:10:32.786999Z",
     "iopub.status.busy": "2024-05-05T09:10:32.786557Z",
     "iopub.status.idle": "2024-05-05T09:10:32.792202Z",
     "shell.execute_reply": "2024-05-05T09:10:32.791350Z"
    },
    "id": "cJXCfz2ZZBOf",
    "outputId": "741e1c01-0587-48eb-cb0e-ec8991f51a8f",
    "papermill": {
     "duration": 0.031813,
     "end_time": "2024-05-05T09:10:32.794308",
     "exception": false,
     "start_time": "2024-05-05T09:10:32.762495",
     "status": "completed"
    },
    "tags": []
   },
   "outputs": [
    {
     "name": "stdout",
     "output_type": "stream",
     "text": [
      "Files and directories in ' /kaggle/input/ ' :\n",
      "['savedresult2', 'netflix-prize-data', 'saved-results-version-1']\n"
     ]
    }
   ],
   "source": [
    "path = \"/kaggle/input/\"\n",
    "dir_list = os.listdir(path)\n",
    "print(\"Files and directories in '\", path, \"' :\")\n",
    "print(dir_list)"
   ]
  },
  {
   "cell_type": "code",
   "execution_count": 3,
   "id": "6bd67ee7",
   "metadata": {
    "execution": {
     "iopub.execute_input": "2024-05-05T09:10:32.842131Z",
     "iopub.status.busy": "2024-05-05T09:10:32.841253Z",
     "iopub.status.idle": "2024-05-05T09:10:32.854511Z",
     "shell.execute_reply": "2024-05-05T09:10:32.853490Z"
    },
    "id": "I6ac7awBr5ak",
    "outputId": "b65630dc-5107-4b71-a3a2-7f60e8b1e068",
    "papermill": {
     "duration": 0.039315,
     "end_time": "2024-05-05T09:10:32.856452",
     "exception": false,
     "start_time": "2024-05-05T09:10:32.817137",
     "status": "completed"
    },
    "tags": []
   },
   "outputs": [
    {
     "name": "stdout",
     "output_type": "stream",
     "text": [
      "File already present\n",
      "Total time to combine the data 0:00:00.003806\n"
     ]
    }
   ],
   "source": [
    "# To measure time taken to execute the code\n",
    "begin = datetime.now()\n",
    "pathLoc = \"/kaggle/input/saved-results-version-1/\"\n",
    "# print(pathLoc+'Data.csv')\n",
    "# print(os.path.isfile(pathLoc+'Data.csv'))\n",
    "if not os.path.isfile(pathLoc+'Data.csv'):\n",
    "    print(\"File not present. Started creating CSV :\")\n",
    "    with open('Data.csv', 'w') as data:\n",
    "#         'combined_data_1.txt', 'combined_data_2.txt',\n",
    "      files=['combined_data_3.txt','combined_data_4.txt']\n",
    "      for file in files:\n",
    "          print(\"Reading data consisting of - userid, rating and date for particular movieid from {} ...\".format(file))\n",
    "          with open(pathLoc+file,'r') as f:\n",
    "              for line in f:\n",
    "                  row = list()\n",
    "                  line = line.strip()  # remove whitespaces\n",
    "                  if line.endswith(':'):\n",
    "                      movieid = line[:-1]\n",
    "                  else:\n",
    "                      row = [item for item in line.split(',')]\n",
    "                      row.insert(0, movieid)\n",
    "                      data.write(','.join(row))\n",
    "                      data.write('\\n')\n",
    "          print(\"This file is done reading.\\n\")\n",
    "else:\n",
    "  print(\"File already present\")\n",
    "print('Total time to combine the data', datetime.now()-begin)"
   ]
  },
  {
   "cell_type": "code",
   "execution_count": 4,
   "id": "3324925b",
   "metadata": {
    "execution": {
     "iopub.execute_input": "2024-05-05T09:10:32.904318Z",
     "iopub.status.busy": "2024-05-05T09:10:32.903586Z",
     "iopub.status.idle": "2024-05-05T09:11:35.647365Z",
     "shell.execute_reply": "2024-05-05T09:11:35.646281Z"
    },
    "id": "A1tfZWlrvyV5",
    "outputId": "386608b1-95fe-41e0-ca6c-c3fc75cc303f",
    "papermill": {
     "duration": 62.770355,
     "end_time": "2024-05-05T09:11:35.649623",
     "exception": false,
     "start_time": "2024-05-05T09:10:32.879268",
     "status": "completed"
    },
    "tags": []
   },
   "outputs": [
    {
     "name": "stdout",
     "output_type": "stream",
     "text": [
      "Creating DataFrame from combined Data...\n",
      "DataFrame created.\n",
      "\n",
      "Starting sorting the data according to time...\n",
      "DataFrame is sorted\n",
      "Total time to create and sort the dataframe :  0:01:02.736943\n"
     ]
    }
   ],
   "source": [
    "begin = datetime.now()\n",
    "pathLoc = '/kaggle/input/saved-results-version-1/'\n",
    "print(\"Creating DataFrame from combined Data...\")\n",
    "df = pd.read_csv(pathLoc + 'Data.csv', sep=',', names=['movieid', 'userid', 'rating', 'date'], dtype={'movieid': int, 'userid': int, 'rating': int})\n",
    "df.date = pd.to_datetime(df.date)\n",
    "print('DataFrame created.\\n')\n",
    "\n",
    "print('Starting sorting the data according to time...')\n",
    "df.sort_values(by='date', inplace=True)\n",
    "print('DataFrame is sorted')\n",
    "print('Total time to create and sort the dataframe : ', datetime.now()-begin)"
   ]
  },
  {
   "cell_type": "code",
   "execution_count": 5,
   "id": "f2a5bf9b",
   "metadata": {
    "execution": {
     "iopub.execute_input": "2024-05-05T09:11:35.698580Z",
     "iopub.status.busy": "2024-05-05T09:11:35.697744Z",
     "iopub.status.idle": "2024-05-05T09:11:42.235738Z",
     "shell.execute_reply": "2024-05-05T09:11:42.234696Z"
    },
    "id": "iFmeRP-tQAzE",
    "outputId": "2b21a4b7-19ac-47a2-e97c-6e0e5b75bd47",
    "papermill": {
     "duration": 6.564673,
     "end_time": "2024-05-05T09:11:42.237993",
     "exception": false,
     "start_time": "2024-05-05T09:11:35.673320",
     "status": "completed"
    },
    "tags": []
   },
   "outputs": [
    {
     "name": "stdout",
     "output_type": "stream",
     "text": [
      "          movieid  userid  rating       date\n",
      "45181370    17064  510180       2 1999-11-11\n",
      "19664881    12818  510180       2 1999-11-11\n",
      "2845807      9798  510180       3 1999-11-11\n",
      "49429494    17764  510180       5 1999-11-11\n",
      "33271295    15057  510180       5 1999-11-11\n",
      "count    4.944915e+07\n",
      "mean     3.614743e+00\n",
      "min      1.000000e+00\n",
      "25%      3.000000e+00\n",
      "50%      4.000000e+00\n",
      "75%      4.000000e+00\n",
      "max      5.000000e+00\n",
      "std      1.084964e+00\n",
      "Name: rating, dtype: float64\n",
      "Total time to exceute : 0:00:06.525594\n"
     ]
    }
   ],
   "source": [
    "print(df.head())\n",
    "begin = datetime.now()\n",
    "print(df.describe()['rating'])\n",
    "print('Total time to exceute :', datetime.now()-begin)"
   ]
  },
  {
   "cell_type": "code",
   "execution_count": 6,
   "id": "35cf0377",
   "metadata": {
    "execution": {
     "iopub.execute_input": "2024-05-05T09:11:42.285458Z",
     "iopub.status.busy": "2024-05-05T09:11:42.285167Z",
     "iopub.status.idle": "2024-05-05T09:11:53.570785Z",
     "shell.execute_reply": "2024-05-05T09:11:53.569716Z"
    },
    "id": "K2Ryr1AJgqsl",
    "outputId": "fab70a90-2ed4-4f97-99a1-876225aaa076",
    "papermill": {
     "duration": 11.311764,
     "end_time": "2024-05-05T09:11:53.573164",
     "exception": false,
     "start_time": "2024-05-05T09:11:42.261400",
     "status": "completed"
    },
    "tags": []
   },
   "outputs": [
    {
     "name": "stdout",
     "output_type": "stream",
     "text": [
      "No of Nan values in the Dataframe :  0\n",
      "No of duplicate entry :  0\n",
      "Total time to find total duplicate : 0:00:11.177480\n"
     ]
    }
   ],
   "source": [
    "# checking for empty fields\n",
    "print(\"No of Nan values in the Dataframe : \", (df.isnull().any()).sum())\n",
    "begin = datetime.now()\n",
    "print(\"No of duplicate entry : \", df.duplicated(['movieid','userid','rating']).sum())\n",
    "print('Total time to find total duplicate :', datetime.now()-begin)"
   ]
  },
  {
   "cell_type": "code",
   "execution_count": 7,
   "id": "2dcec3d9",
   "metadata": {
    "execution": {
     "iopub.execute_input": "2024-05-05T09:11:53.623522Z",
     "iopub.status.busy": "2024-05-05T09:11:53.622636Z",
     "iopub.status.idle": "2024-05-05T09:12:21.958057Z",
     "shell.execute_reply": "2024-05-05T09:12:21.956869Z"
    },
    "id": "elMgc8wKjVUX",
    "outputId": "cb7ae609-83b4-4e69-8196-56ff7176c5db",
    "papermill": {
     "duration": 28.362572,
     "end_time": "2024-05-05T09:12:21.960181",
     "exception": false,
     "start_time": "2024-05-05T09:11:53.597609",
     "status": "completed"
    },
    "tags": []
   },
   "outputs": [
    {
     "name": "stdout",
     "output_type": "stream",
     "text": [
      "Total time to execute : 0:00:28.328374\n"
     ]
    }
   ],
   "source": [
    "# spliting the data in training and test\n",
    "pathLoc = \"/kaggle/input/saved-results-version-1/\"\n",
    "begin = datetime.now()\n",
    "if not os.path.isfile(pathLoc + 'trainingdata.csv'):\n",
    "    sz = int(df.shape[0] * 0.70)\n",
    "    df.iloc[:sz].to_csv(pathLoc + \"trainingdata.csv\", index=False)\n",
    "    print(\"Created trainingdata.csv\")\n",
    "\n",
    "train_df = pd.read_csv(pathLoc + \"trainingdata.csv\", parse_dates=['date'])\n",
    "print('Total time to execute :', datetime.now()-begin)"
   ]
  },
  {
   "cell_type": "code",
   "execution_count": 8,
   "id": "eb9bf524",
   "metadata": {
    "execution": {
     "iopub.execute_input": "2024-05-05T09:12:22.008586Z",
     "iopub.status.busy": "2024-05-05T09:12:22.008273Z",
     "iopub.status.idle": "2024-05-05T09:12:31.152519Z",
     "shell.execute_reply": "2024-05-05T09:12:31.151525Z"
    },
    "id": "o6Uo8PDHfTqk",
    "outputId": "b77a97b7-792c-4617-f4c6-46e2f46e91cb",
    "papermill": {
     "duration": 9.171024,
     "end_time": "2024-05-05T09:12:31.155018",
     "exception": false,
     "start_time": "2024-05-05T09:12:21.983994",
     "status": "completed"
    },
    "tags": []
   },
   "outputs": [
    {
     "name": "stdout",
     "output_type": "stream",
     "text": [
      "Total time to execute : 0:00:09.138095\n"
     ]
    }
   ],
   "source": [
    "pathLoc = \"/kaggle/input/saved-results-version-1/\"\n",
    "begin = datetime.now()\n",
    "if not os.path.isfile(pathLoc + 'testdata.csv'):\n",
    "    sz = int(df.shape[0] * 0.70)\n",
    "    df.iloc[sz:].to_csv(pathLoc + \"testdata.csv\", index=False)\n",
    "    print(\"Created testdata.csv\")\n",
    "test_df = pd.read_csv(pathLoc + \"testdata.csv\")\n",
    "print('Total time to execute :', datetime.now()-begin)"
   ]
  },
  {
   "cell_type": "code",
   "execution_count": 9,
   "id": "0cd79be9",
   "metadata": {
    "execution": {
     "iopub.execute_input": "2024-05-05T09:12:31.213183Z",
     "iopub.status.busy": "2024-05-05T09:12:31.212831Z",
     "iopub.status.idle": "2024-05-05T09:12:32.068365Z",
     "shell.execute_reply": "2024-05-05T09:12:32.067304Z"
    },
    "id": "VtEkOWeTtgaI",
    "outputId": "5946e89f-5dd2-46eb-daef-9528c73fe22b",
    "papermill": {
     "duration": 0.884785,
     "end_time": "2024-05-05T09:12:32.070497",
     "exception": false,
     "start_time": "2024-05-05T09:12:31.185712",
     "status": "completed"
    },
    "tags": []
   },
   "outputs": [
    {
     "name": "stdout",
     "output_type": "stream",
     "text": [
      "Training data :\n",
      "....................................................................\n",
      "\n",
      "Total Number of Users   : 365060\n",
      "Total Number of movies  : 8190\n",
      "Total Number of ratings : 34614406\n",
      "\n",
      "\n",
      "Test data :\n",
      "....................................................................\n",
      "\n",
      "Total Number of Users   : 373432\n",
      "Total Number of movies  : 8558\n",
      "Total Number of ratings : 14834746\n"
     ]
    }
   ],
   "source": [
    "print(\"Training data :\")\n",
    "print(\"....................................................................\")\n",
    "print(\"\\nTotal Number of Users   :\", train_df.userid.nunique())\n",
    "print(\"Total Number of movies  :\", train_df.movieid.nunique())\n",
    "print(\"Total Number of ratings :\",train_df.shape[0])\n",
    "\n",
    "print(\"\\n\\nTest data :\")\n",
    "print(\"....................................................................\")\n",
    "print(\"\\nTotal Number of Users   :\", test_df.userid.nunique())\n",
    "print(\"Total Number of movies  :\", test_df.movieid.nunique())\n",
    "print(\"Total Number of ratings :\",test_df.shape[0])"
   ]
  },
  {
   "cell_type": "code",
   "execution_count": 10,
   "id": "6e7e0f40",
   "metadata": {
    "execution": {
     "iopub.execute_input": "2024-05-05T09:12:32.119745Z",
     "iopub.status.busy": "2024-05-05T09:12:32.119389Z",
     "iopub.status.idle": "2024-05-05T09:12:33.237677Z",
     "shell.execute_reply": "2024-05-05T09:12:33.236916Z"
    },
    "id": "BZFl1K6l8KwJ",
    "papermill": {
     "duration": 1.145588,
     "end_time": "2024-05-05T09:12:33.239934",
     "exception": false,
     "start_time": "2024-05-05T09:12:32.094346",
     "status": "completed"
    },
    "tags": []
   },
   "outputs": [],
   "source": [
    "import matplotlib\n",
    "import matplotlib.pyplot as plt\n",
    "from matplotlib.ticker import FixedFormatter, AutoLocator\n",
    "import seaborn as sns\n",
    "sns.set_style('whitegrid')"
   ]
  },
  {
   "cell_type": "code",
   "execution_count": 11,
   "id": "5a53a139",
   "metadata": {
    "execution": {
     "iopub.execute_input": "2024-05-05T09:12:33.340512Z",
     "iopub.status.busy": "2024-05-05T09:12:33.339727Z",
     "iopub.status.idle": "2024-05-05T09:12:33.345120Z",
     "shell.execute_reply": "2024-05-05T09:12:33.344198Z"
    },
    "id": "7bD49rYw75VV",
    "papermill": {
     "duration": 0.033459,
     "end_time": "2024-05-05T09:12:33.346898",
     "exception": false,
     "start_time": "2024-05-05T09:12:33.313439",
     "status": "completed"
    },
    "tags": []
   },
   "outputs": [],
   "source": [
    "# -----------------------------------\n",
    "def readibility(num, units='m'):\n",
    "    units = units.lower()\n",
    "    num = float(num)\n",
    "    conversions = {'k': 10**3, 'm': 10**6, 'b': 10**9}\n",
    "    return str(num / conversions.get(units, 1)) + \" \" + units.upper()"
   ]
  },
  {
   "cell_type": "code",
   "execution_count": 12,
   "id": "fdc3a877",
   "metadata": {
    "execution": {
     "iopub.execute_input": "2024-05-05T09:12:33.395573Z",
     "iopub.status.busy": "2024-05-05T09:12:33.395255Z",
     "iopub.status.idle": "2024-05-05T09:12:36.602278Z",
     "shell.execute_reply": "2024-05-05T09:12:36.601374Z"
    },
    "id": "gVth2mE27-GG",
    "outputId": "6f12b229-3e65-4420-fcdc-7401b86f8dfd",
    "papermill": {
     "duration": 3.235377,
     "end_time": "2024-05-05T09:12:36.605695",
     "exception": false,
     "start_time": "2024-05-05T09:12:33.370318",
     "status": "completed"
    },
    "tags": []
   },
   "outputs": [
    {
     "data": {
      "image/png": "[encoded data removed]",
      "text/plain": [
       "<Figure size 640x480 with 1 Axes>"
      ]
     },
     "metadata": {},
     "output_type": "display_data"
    }
   ],
   "source": [
    "fig, ax = plt.subplots()\n",
    "plt.title('Distribution of ratings over Training dataset', fontsize=15)\n",
    "sns.countplot(pd.DataFrame(train_df.rating.values, columns=['Ratings']), x='Ratings')\n",
    "ax.yaxis.set_major_formatter(FixedFormatter([readibility(item, 'M') for item in ax.get_yticks()]))\n",
    "ax.yaxis.set_major_locator(AutoLocator())\n",
    "ax.set_ylabel('Number of Ratings (In Millions)')\n",
    "plt.show()"
   ]
  },
  {
   "cell_type": "code",
   "execution_count": 13,
   "id": "44d5ef14",
   "metadata": {
    "execution": {
     "iopub.execute_input": "2024-05-05T09:12:36.657528Z",
     "iopub.status.busy": "2024-05-05T09:12:36.656734Z",
     "iopub.status.idle": "2024-05-05T09:12:37.833935Z",
     "shell.execute_reply": "2024-05-05T09:12:37.832993Z"
    },
    "id": "2S6oJM038z_Q",
    "outputId": "a31a2e8e-6c70-48e9-a883-511a5217791e",
    "papermill": {
     "duration": 1.204908,
     "end_time": "2024-05-05T09:12:37.835986",
     "exception": false,
     "start_time": "2024-05-05T09:12:36.631078",
     "status": "completed"
    },
    "tags": []
   },
   "outputs": [
    {
     "data": {
      "image/png": "[encoded data removed]",
      "text/plain": [
       "<Figure size 640x480 with 1 Axes>"
      ]
     },
     "metadata": {},
     "output_type": "display_data"
    }
   ],
   "source": [
    "ax = train_df.resample('ME', on='date').rating.count().plot()\n",
    "ax.set_title('Number of ratings per month (Training data)')\n",
    "plt.xlabel('Month')\n",
    "plt.ylabel('Number of ratings (per month)')\n",
    "ax.set_yticklabels([readibility(item, 'm') for item in ax.get_yticks()])\n",
    "plt.show()"
   ]
  },
  {
   "cell_type": "code",
   "execution_count": 14,
   "id": "9b4422bb",
   "metadata": {
    "execution": {
     "iopub.execute_input": "2024-05-05T09:12:37.890834Z",
     "iopub.status.busy": "2024-05-05T09:12:37.890452Z",
     "iopub.status.idle": "2024-05-05T09:12:38.845790Z",
     "shell.execute_reply": "2024-05-05T09:12:38.844861Z"
    },
    "id": "bs59P67O9BwK",
    "outputId": "7bb861cd-14c6-4152-b8a6-23c9df991752",
    "papermill": {
     "duration": 0.986845,
     "end_time": "2024-05-05T09:12:38.848015",
     "exception": false,
     "start_time": "2024-05-05T09:12:37.861170",
     "status": "completed"
    },
    "tags": []
   },
   "outputs": [
    {
     "name": "stdout",
     "output_type": "stream",
     "text": [
      "userid\n",
      "305344     8006\n",
      "2439493    7404\n",
      "387418     7054\n",
      "1639792    4666\n",
      "1461435    4439\n",
      "Name: rating, dtype: int64\n"
     ]
    }
   ],
   "source": [
    "no_of_rated_movies_per_user = train_df.groupby(by='userid').rating.count().sort_values(ascending=False)\n",
    "print(no_of_rated_movies_per_user.head())"
   ]
  },
  {
   "cell_type": "code",
   "execution_count": 15,
   "id": "a85540ad",
   "metadata": {
    "execution": {
     "iopub.execute_input": "2024-05-05T09:12:38.900786Z",
     "iopub.status.busy": "2024-05-05T09:12:38.899961Z",
     "iopub.status.idle": "2024-05-05T09:12:44.100861Z",
     "shell.execute_reply": "2024-05-05T09:12:44.099900Z"
    },
    "id": "vEv_wK5b9DYA",
    "outputId": "03fb8bf7-e869-4f02-e840-e17ba97ba0a2",
    "papermill": {
     "duration": 5.229728,
     "end_time": "2024-05-05T09:12:44.103124",
     "exception": false,
     "start_time": "2024-05-05T09:12:38.873396",
     "status": "completed"
    },
    "tags": []
   },
   "outputs": [
    {
     "data": {
      "image/png": "[encoded data removed]",
      "text/plain": [
       "<Figure size 960x480 with 2 Axes>"
      ]
     },
     "metadata": {},
     "output_type": "display_data"
    }
   ],
   "source": [
    "fig = plt.figure(figsize=plt.figaspect(.5))\n",
    "ax1 = plt.subplot(121)\n",
    "sns.kdeplot(no_of_rated_movies_per_user, fill=True, ax=ax1)\n",
    "plt.xlabel('Number of ratings by user')\n",
    "plt.title(\"PDF\")\n",
    "ax2 = plt.subplot(122)\n",
    "sns.kdeplot(no_of_rated_movies_per_user, fill=True, cumulative=True,ax=ax2)\n",
    "plt.xlabel('Number of ratings by user')\n",
    "plt.title('CDF')\n",
    "plt.show()"
   ]
  },
  {
   "cell_type": "code",
   "execution_count": 16,
   "id": "3903d450",
   "metadata": {
    "execution": {
     "iopub.execute_input": "2024-05-05T09:12:44.156567Z",
     "iopub.status.busy": "2024-05-05T09:12:44.155960Z",
     "iopub.status.idle": "2024-05-05T09:12:44.177131Z",
     "shell.execute_reply": "2024-05-05T09:12:44.176223Z"
    },
    "id": "8phoLUk89Fbj",
    "outputId": "2a0922b1-8127-435a-d4ea-a53e11665a95",
    "papermill": {
     "duration": 0.049772,
     "end_time": "2024-05-05T09:12:44.179054",
     "exception": false,
     "start_time": "2024-05-05T09:12:44.129282",
     "status": "completed"
    },
    "tags": []
   },
   "outputs": [
    {
     "data": {
      "text/plain": [
       "count    365060.000000\n",
       "mean         94.818402\n",
       "std         138.909165\n",
       "min           1.000000\n",
       "25%          15.000000\n",
       "50%          43.000000\n",
       "75%         118.000000\n",
       "max        8006.000000\n",
       "Name: rating, dtype: float64"
      ]
     },
     "execution_count": 16,
     "metadata": {},
     "output_type": "execute_result"
    }
   ],
   "source": [
    "no_of_rated_movies_per_user.describe()"
   ]
  },
  {
   "cell_type": "code",
   "execution_count": 17,
   "id": "4fa40d78",
   "metadata": {
    "execution": {
     "iopub.execute_input": "2024-05-05T09:12:44.233055Z",
     "iopub.status.busy": "2024-05-05T09:12:44.232675Z",
     "iopub.status.idle": "2024-05-05T09:12:44.252123Z",
     "shell.execute_reply": "2024-05-05T09:12:44.250976Z"
    },
    "id": "vKVPA-HX9IGH",
    "outputId": "8c977a7f-4a5f-445a-fea2-c08bb6ccc79c",
    "papermill": {
     "duration": 0.049171,
     "end_time": "2024-05-05T09:12:44.254358",
     "exception": false,
     "start_time": "2024-05-05T09:12:44.205187",
     "status": "completed"
    },
    "tags": []
   },
   "outputs": [],
   "source": [
    "quantiles = no_of_rated_movies_per_user.quantile(np.arange(0,1.01,0.01), interpolation='higher')"
   ]
  },
  {
   "cell_type": "code",
   "execution_count": 18,
   "id": "d154b1b5",
   "metadata": {
    "execution": {
     "iopub.execute_input": "2024-05-05T09:12:44.310651Z",
     "iopub.status.busy": "2024-05-05T09:12:44.309933Z",
     "iopub.status.idle": "2024-05-05T09:12:44.719521Z",
     "shell.execute_reply": "2024-05-05T09:12:44.718573Z"
    },
    "id": "E6crVzpu9KR4",
    "outputId": "22124d4e-1066-4780-cfa0-4d11eb2734e2",
    "papermill": {
     "duration": 0.43909,
     "end_time": "2024-05-05T09:12:44.721889",
     "exception": false,
     "start_time": "2024-05-05T09:12:44.282799",
     "status": "completed"
    },
    "tags": []
   },
   "outputs": [
    {
     "data": {
      "image/png": "[encoded data removed]",
      "text/plain": [
       "<Figure size 640x480 with 1 Axes>"
      ]
     },
     "metadata": {},
     "output_type": "display_data"
    }
   ],
   "source": [
    "plt.title(\"Quantiles and their Values\")\n",
    "quantiles.plot()\n",
    "plt.scatter(x=quantiles.index[::5], y=quantiles.values[::5], c='red', label=\"quantiles with 0.05 intervals\")\n",
    "plt.scatter(x=quantiles.index[::25], y=quantiles.values[::25], c='green', label = \"quantiles with 0.25 intervals\")\n",
    "plt.ylabel('Number of ratings by user')\n",
    "plt.xlabel('Value at the quantile')\n",
    "plt.legend(loc='best')\n",
    "\n",
    "# annotate the 25th, 50th, 75th and 100th percentile values....\n",
    "for x,y in zip(quantiles.index[::25], quantiles[::25]):\n",
    "    plt.annotate(text=\"({} , {})\".format(x, y), xy=(x, y), xytext=(x - 0.05, y + 500), fontweight='bold')\n",
    "\n",
    "plt.show()"
   ]
  },
  {
   "cell_type": "code",
   "execution_count": 19,
   "id": "d7fe9550",
   "metadata": {
    "execution": {
     "iopub.execute_input": "2024-05-05T09:12:44.777948Z",
     "iopub.status.busy": "2024-05-05T09:12:44.777222Z",
     "iopub.status.idle": "2024-05-05T09:12:44.827679Z",
     "shell.execute_reply": "2024-05-05T09:12:44.826741Z"
    },
    "id": "6JJxjNF49WDK",
    "outputId": "d0f7a129-0119-4593-dc3f-0ceffad51882",
    "papermill": {
     "duration": 0.080787,
     "end_time": "2024-05-05T09:12:44.829827",
     "exception": false,
     "start_time": "2024-05-05T09:12:44.749040",
     "status": "completed"
    },
    "tags": []
   },
   "outputs": [
    {
     "name": "stdout",
     "output_type": "stream",
     "text": [
      "0.00       1\n",
      "0.05       3\n",
      "0.10       6\n",
      "0.15       9\n",
      "0.20      12\n",
      "0.25      15\n",
      "0.30      19\n",
      "0.35      23\n",
      "0.40      29\n",
      "0.45      35\n",
      "0.50      43\n",
      "0.55      52\n",
      "0.60      64\n",
      "0.65      78\n",
      "0.70      96\n",
      "0.75     118\n",
      "0.80     148\n",
      "0.85     188\n",
      "0.90     249\n",
      "0.95     359\n",
      "1.00    8006\n",
      "Name: rating, dtype: int64\n",
      "\n",
      "Number of ratings of last 5 percentile (greater than 359) : 18353\n",
      "\n"
     ]
    }
   ],
   "source": [
    "print(quantiles[::5])\n",
    "print('\\nNumber of ratings of last 5 percentile (greater than 359) : {}\\n'.format(sum(no_of_rated_movies_per_user>= 359)) )"
   ]
  },
  {
   "cell_type": "code",
   "execution_count": 20,
   "id": "6ea71905",
   "metadata": {
    "execution": {
     "iopub.execute_input": "2024-05-05T09:12:44.886646Z",
     "iopub.status.busy": "2024-05-05T09:12:44.885999Z",
     "iopub.status.idle": "2024-05-05T09:12:45.816320Z",
     "shell.execute_reply": "2024-05-05T09:12:45.815396Z"
    },
    "papermill": {
     "duration": 0.960772,
     "end_time": "2024-05-05T09:12:45.818601",
     "exception": false,
     "start_time": "2024-05-05T09:12:44.857829",
     "status": "completed"
    },
    "tags": []
   },
   "outputs": [
    {
     "data": {
      "image/png": "[encoded data removed]",
      "text/plain": [
       "<Figure size 960x480 with 1 Axes>"
      ]
     },
     "metadata": {},
     "output_type": "display_data"
    }
   ],
   "source": [
    "no_of_ratings_per_movie = train_df.groupby(by='movieid').rating.count().sort_values(ascending=False)\n",
    "fig = plt.figure(figsize=plt.figaspect(.5))\n",
    "ax = plt.gca()\n",
    "plt.plot(no_of_ratings_per_movie.values)\n",
    "plt.title('Number of Ratings per Movie')\n",
    "plt.xlabel('Movie')\n",
    "plt.ylabel('Number of Users who rated a movie')\n",
    "ax.set_xticklabels([])\n",
    "plt.show()"
   ]
  },
  {
   "cell_type": "code",
   "execution_count": 21,
   "id": "5fea8ba1",
   "metadata": {
    "execution": {
     "iopub.execute_input": "2024-05-05T09:12:45.879331Z",
     "iopub.status.busy": "2024-05-05T09:12:45.878730Z",
     "iopub.status.idle": "2024-05-05T09:12:46.189027Z",
     "shell.execute_reply": "2024-05-05T09:12:46.188155Z"
    },
    "id": "jUViu46Xots0",
    "papermill": {
     "duration": 0.342901,
     "end_time": "2024-05-05T09:12:46.191495",
     "exception": false,
     "start_time": "2024-05-05T09:12:45.848594",
     "status": "completed"
    },
    "tags": []
   },
   "outputs": [],
   "source": [
    "from scipy import sparse\n",
    "from scipy.sparse import csr_matrix\n",
    "from sklearn.decomposition import TruncatedSVD\n",
    "from sklearn.metrics.pairwise import cosine_similarity\n",
    "import random"
   ]
  },
  {
   "cell_type": "code",
   "execution_count": 22,
   "id": "6c1abfcf",
   "metadata": {
    "execution": {
     "iopub.execute_input": "2024-05-05T09:12:46.249209Z",
     "iopub.status.busy": "2024-05-05T09:12:46.248181Z",
     "iopub.status.idle": "2024-05-05T09:12:48.452785Z",
     "shell.execute_reply": "2024-05-05T09:12:48.451766Z"
    },
    "id": "GqSp_DDPJ0lj",
    "papermill": {
     "duration": 2.235801,
     "end_time": "2024-05-05T09:12:48.455022",
     "exception": false,
     "start_time": "2024-05-05T09:12:46.219221",
     "status": "completed"
    },
    "tags": []
   },
   "outputs": [
    {
     "name": "stdout",
     "output_type": "stream",
     "text": [
      "File Found. Loading Data...\n",
      "Done.\n",
      "0:00:02.196306\n"
     ]
    }
   ],
   "source": [
    "start = datetime.now()\n",
    "if os.path.isfile('/kaggle/input/saved-results-version-1/train_sparse_matrix.npz'):\n",
    "    print(\"File Found. Loading Data...\")\n",
    "    train_sparse_matrix = sparse.load_npz('/kaggle/input/saved-results-version-1/train_sparse_matrix.npz')\n",
    "    print(\"Done.\")\n",
    "else: \n",
    "    print(\"Creating sparse matrix from dataframe...\")\n",
    "    train_sparse_matrix = sparse.csr_matrix((train_df.rating.values, (train_df.userid.values, train_df.movieid.values)),)\n",
    "    print('Completed. (userid * movieid ) ',train_sparse_matrix.shape)\n",
    "    print('Creating File')\n",
    "    sparse.save_npz(\"train_sparse_matrix.npz\", train_sparse_matrix)\n",
    "    print('Completed\\n')\n",
    "\n",
    "print(datetime.now() - start)"
   ]
  },
  {
   "cell_type": "code",
   "execution_count": 23,
   "id": "7af80f25",
   "metadata": {
    "execution": {
     "iopub.execute_input": "2024-05-05T09:12:48.511675Z",
     "iopub.status.busy": "2024-05-05T09:12:48.510866Z",
     "iopub.status.idle": "2024-05-05T09:12:48.591991Z",
     "shell.execute_reply": "2024-05-05T09:12:48.591096Z"
    },
    "papermill": {
     "duration": 0.111732,
     "end_time": "2024-05-05T09:12:48.594186",
     "exception": false,
     "start_time": "2024-05-05T09:12:48.482454",
     "status": "completed"
    },
    "tags": []
   },
   "outputs": [
    {
     "name": "stdout",
     "output_type": "stream",
     "text": [
      "Sparsity Of Trained Matrix : 99.92648218909842 % \n"
     ]
    }
   ],
   "source": [
    "us,mv = train_sparse_matrix.shape\n",
    "elem = train_sparse_matrix.count_nonzero()\n",
    "print(\"Sparsity Of Trained Matrix : {} % \".format(  (1-(elem/(us*mv))) * 100) )"
   ]
  },
  {
   "cell_type": "code",
   "execution_count": 24,
   "id": "8d30b860",
   "metadata": {
    "execution": {
     "iopub.execute_input": "2024-05-05T09:12:48.651116Z",
     "iopub.status.busy": "2024-05-05T09:12:48.650361Z",
     "iopub.status.idle": "2024-05-05T09:12:49.598915Z",
     "shell.execute_reply": "2024-05-05T09:12:49.597846Z"
    },
    "papermill": {
     "duration": 0.979659,
     "end_time": "2024-05-05T09:12:49.601358",
     "exception": false,
     "start_time": "2024-05-05T09:12:48.621699",
     "status": "completed"
    },
    "tags": []
   },
   "outputs": [
    {
     "name": "stdout",
     "output_type": "stream",
     "text": [
      "File Found. Loading Data...\n",
      "DONE.\n",
      "0:00:00.941615\n"
     ]
    }
   ],
   "source": [
    "start = datetime.now()\n",
    "if os.path.isfile('/kaggle/input/saved-results-version-1/test_sparse_matrix.npz'):\n",
    "    print(\"File Found. Loading Data...\")\n",
    "    test_sparse_matrix = sparse.load_npz('/kaggle/input/saved-results-version-1/test_sparse_matrix.npz')\n",
    "    print(\"DONE.\")\n",
    "else: \n",
    "    print(\"Creating sparse matrix from dataframe...\")\n",
    "    test_sparse_matrix = sparse.csr_matrix((test_df.rating.values, (test_df.userid.values,test_df.movieid.values)))\n",
    "    \n",
    "    print('Completed. (userid * movieid ) ',test_sparse_matrix.shape)\n",
    "    print('Creating local file')\n",
    "    sparse.save_npz(\"test_sparse_matrix.npz\", test_sparse_matrix)\n",
    "    print('Completed\\n')\n",
    "    \n",
    "print(datetime.now() - start)"
   ]
  },
  {
   "cell_type": "code",
   "execution_count": 25,
   "id": "905938bc",
   "metadata": {
    "execution": {
     "iopub.execute_input": "2024-05-05T09:12:49.660128Z",
     "iopub.status.busy": "2024-05-05T09:12:49.659782Z",
     "iopub.status.idle": "2024-05-05T09:12:49.700638Z",
     "shell.execute_reply": "2024-05-05T09:12:49.699747Z"
    },
    "papermill": {
     "duration": 0.07159,
     "end_time": "2024-05-05T09:12:49.702697",
     "exception": false,
     "start_time": "2024-05-05T09:12:49.631107",
     "status": "completed"
    },
    "tags": []
   },
   "outputs": [
    {
     "name": "stdout",
     "output_type": "stream",
     "text": [
      "Sparsity Of Test matrix : 99.9684923655428 % \n"
     ]
    }
   ],
   "source": [
    "us,mv = test_sparse_matrix.shape\n",
    "elem = test_sparse_matrix.count_nonzero()\n",
    "\n",
    "print(\"Sparsity Of Test matrix : {} % \".format(  (1-(elem/(us*mv))) * 100) )"
   ]
  },
  {
   "cell_type": "code",
   "execution_count": 26,
   "id": "7fb182a8",
   "metadata": {
    "execution": {
     "iopub.execute_input": "2024-05-05T09:12:49.761553Z",
     "iopub.status.busy": "2024-05-05T09:12:49.760792Z",
     "iopub.status.idle": "2024-05-05T09:12:49.767032Z",
     "shell.execute_reply": "2024-05-05T09:12:49.766125Z"
    },
    "papermill": {
     "duration": 0.037754,
     "end_time": "2024-05-05T09:12:49.769036",
     "exception": false,
     "start_time": "2024-05-05T09:12:49.731282",
     "status": "completed"
    },
    "tags": []
   },
   "outputs": [],
   "source": [
    "def get_average_ratings(sparse_matrix, of_users):\n",
    "    ax = 1 if of_users else 0\n",
    "    sum_of_ratings = sparse_matrix.sum(axis=ax).A1\n",
    "    is_rated = sparse_matrix != 0\n",
    "    no_of_ratings = is_rated.sum(axis=ax).A1\n",
    "    u, m = sparse_matrix.shape\n",
    "    average_ratings = {}\n",
    "    for i in range(u if of_users else m):\n",
    "        if no_of_ratings[i] != 0:\n",
    "            average_ratings[i] = sum_of_ratings[i] / no_of_ratings[i]\n",
    "    return average_ratings"
   ]
  },
  {
   "cell_type": "code",
   "execution_count": 27,
   "id": "fa09f86f",
   "metadata": {
    "execution": {
     "iopub.execute_input": "2024-05-05T09:12:49.827633Z",
     "iopub.status.busy": "2024-05-05T09:12:49.827014Z",
     "iopub.status.idle": "2024-05-05T09:12:49.927053Z",
     "shell.execute_reply": "2024-05-05T09:12:49.926202Z"
    },
    "papermill": {
     "duration": 0.131029,
     "end_time": "2024-05-05T09:12:49.929122",
     "exception": false,
     "start_time": "2024-05-05T09:12:49.798093",
     "status": "completed"
    },
    "tags": []
   },
   "outputs": [
    {
     "data": {
      "text/plain": [
       "{'global': 3.576666749676421}"
      ]
     },
     "execution_count": 27,
     "metadata": {},
     "output_type": "execute_result"
    }
   ],
   "source": [
    "# -----------------------------------------------------------------\n",
    "train_averages = dict()\n",
    "# get the global average of ratings in our train set.\n",
    "train_global_average = train_sparse_matrix.sum()/train_sparse_matrix.count_nonzero()\n",
    "train_averages['global'] = train_global_average\n",
    "train_averages"
   ]
  },
  {
   "cell_type": "code",
   "execution_count": 28,
   "id": "a1afa597",
   "metadata": {
    "execution": {
     "iopub.execute_input": "2024-05-05T09:12:49.986434Z",
     "iopub.status.busy": "2024-05-05T09:12:49.985727Z",
     "iopub.status.idle": "2024-05-05T09:12:51.286873Z",
     "shell.execute_reply": "2024-05-05T09:12:51.285770Z"
    },
    "papermill": {
     "duration": 1.332326,
     "end_time": "2024-05-05T09:12:51.289181",
     "exception": false,
     "start_time": "2024-05-05T09:12:49.956855",
     "status": "completed"
    },
    "tags": []
   },
   "outputs": [
    {
     "name": "stdout",
     "output_type": "stream",
     "text": [
      "\n",
      "Average rating of user 10 : 3.475\n"
     ]
    }
   ],
   "source": [
    "train_averages['user'] = get_average_ratings(train_sparse_matrix, of_users=True)\n",
    "print('\\nAverage rating of user 10 :',train_averages['user'][10])"
   ]
  },
  {
   "cell_type": "code",
   "execution_count": 29,
   "id": "60f26b42",
   "metadata": {
    "execution": {
     "iopub.execute_input": "2024-05-05T09:12:51.347137Z",
     "iopub.status.busy": "2024-05-05T09:12:51.346316Z",
     "iopub.status.idle": "2024-05-05T09:12:51.761727Z",
     "shell.execute_reply": "2024-05-05T09:12:51.760740Z"
    },
    "papermill": {
     "duration": 0.446093,
     "end_time": "2024-05-05T09:12:51.763887",
     "exception": false,
     "start_time": "2024-05-05T09:12:51.317794",
     "status": "completed"
    },
    "tags": []
   },
   "outputs": [
    {
     "name": "stdout",
     "output_type": "stream",
     "text": [
      "\n",
      "Average rating of movie 10341: 3.6291739894551847\n"
     ]
    }
   ],
   "source": [
    "train_averages['movie'] =  get_average_ratings(train_sparse_matrix, of_users=False)\n",
    "print('\\nAverage rating of movie 10341:', train_averages['movie'].get(10341, \"Movie not found\"))\n"
   ]
  },
  {
   "cell_type": "code",
   "execution_count": 30,
   "id": "11a75147",
   "metadata": {
    "execution": {
     "iopub.execute_input": "2024-05-05T09:12:51.824177Z",
     "iopub.status.busy": "2024-05-05T09:12:51.823801Z",
     "iopub.status.idle": "2024-05-05T09:12:58.632908Z",
     "shell.execute_reply": "2024-05-05T09:12:58.631981Z"
    },
    "papermill": {
     "duration": 6.842579,
     "end_time": "2024-05-05T09:12:58.635978",
     "exception": false,
     "start_time": "2024-05-05T09:12:51.793399",
     "status": "completed"
    },
    "tags": []
   },
   "outputs": [
    {
     "data": {
      "image/png": "[encoded data removed]",
      "text/plain": [
       "<Figure size 1200x600 with 2 Axes>"
      ]
     },
     "metadata": {},
     "output_type": "display_data"
    },
    {
     "name": "stdout",
     "output_type": "stream",
     "text": [
      "0:00:06.797246\n"
     ]
    }
   ],
   "source": [
    "start = datetime.now()\n",
    "\n",
    "# Draw PDFs for average rating per user and average\n",
    "fig, axes = plt.subplots(nrows=1, ncols=2, figsize=(12, 6))\n",
    "fig.suptitle('Average Ratings per User and per Movie', fontsize=15)\n",
    "\n",
    "# Plot average ratings per user\n",
    "ax1 = axes[0]\n",
    "ax1.set_title('Users-Avg-Ratings')\n",
    "user_averages = [rat for rat in train_averages['user'].values()]\n",
    "sns.histplot(user_averages, ax=ax1, stat='density', kde=True, cumulative=True, label='Cdf', color='skyblue')\n",
    "sns.histplot(user_averages, ax=ax1, stat='density', kde=True, label='Pdf', color='orange')\n",
    "\n",
    "# Plot average ratings per movie\n",
    "ax2 = axes[1]\n",
    "ax2.set_title('Movies-Avg-Rating')\n",
    "movie_averages = [rat for rat in train_averages['movie'].values()]\n",
    "sns.histplot(movie_averages, ax=ax2, stat='density', kde=True, cumulative=True, label='Cdf', color='skyblue')\n",
    "sns.histplot(movie_averages, ax=ax2, stat='density', kde=True, label='Pdf', color='orange')\n",
    "\n",
    "plt.show()\n",
    "print(datetime.now() - start)"
   ]
  },
  {
   "cell_type": "code",
   "execution_count": 31,
   "id": "8643464f",
   "metadata": {
    "execution": {
     "iopub.execute_input": "2024-05-05T09:12:58.694736Z",
     "iopub.status.busy": "2024-05-05T09:12:58.694349Z",
     "iopub.status.idle": "2024-05-05T09:12:59.283623Z",
     "shell.execute_reply": "2024-05-05T09:12:59.282624Z"
    },
    "papermill": {
     "duration": 0.621305,
     "end_time": "2024-05-05T09:12:59.285808",
     "exception": false,
     "start_time": "2024-05-05T09:12:58.664503",
     "status": "completed"
    },
    "tags": []
   },
   "outputs": [
    {
     "name": "stdout",
     "output_type": "stream",
     "text": [
      "Total number of Users  : 478796\n",
      "Number of Users in Train data : 365060\n",
      "Number of Users that didn't appear in train data: 113736(23.75 %) \n",
      " \n"
     ]
    }
   ],
   "source": [
    "total_users = df.userid.nunique()\n",
    "users_train = len(train_averages['user'])\n",
    "new_users = total_users - users_train\n",
    "\n",
    "print('Total number of Users  :', total_users)\n",
    "print('Number of Users in Train data :', users_train)\n",
    "print(\"Number of Users that didn't appear in train data: {}({} %) \\n \".format(new_users, np.round((new_users/total_users)*100, 2)))\n"
   ]
  },
  {
   "cell_type": "code",
   "execution_count": 32,
   "id": "cd9d8aa4",
   "metadata": {
    "execution": {
     "iopub.execute_input": "2024-05-05T09:12:59.347811Z",
     "iopub.status.busy": "2024-05-05T09:12:59.347415Z",
     "iopub.status.idle": "2024-05-05T09:12:59.612045Z",
     "shell.execute_reply": "2024-05-05T09:12:59.610961Z"
    },
    "papermill": {
     "duration": 0.298208,
     "end_time": "2024-05-05T09:12:59.614272",
     "exception": false,
     "start_time": "2024-05-05T09:12:59.316064",
     "status": "completed"
    },
    "tags": []
   },
   "outputs": [
    {
     "name": "stdout",
     "output_type": "stream",
     "text": [
      "\n",
      "Total number of Movies  : 8560\n",
      "\n",
      "Number of Movies in Train data : 8190\n",
      "\n",
      "No of Movies that didn't appear in train data: 370(4.32 %) \n",
      " \n"
     ]
    }
   ],
   "source": [
    "total_movies = df.movieid.nunique()\n",
    "movies_train = len(train_averages['movie'])\n",
    "new_movies = total_movies - movies_train\n",
    "\n",
    "print('\\nTotal number of Movies  :', total_movies)\n",
    "print('\\nNumber of Movies in Train data :', movies_train)\n",
    "print(\"\\nNo of Movies that didn't appear in train data: {}({} %) \\n \".format(new_movies,np.round((new_movies/total_movies)*100, 2)))"
   ]
  },
  {
   "cell_type": "code",
   "execution_count": 33,
   "id": "043487c8",
   "metadata": {
    "execution": {
     "iopub.execute_input": "2024-05-05T09:12:59.674258Z",
     "iopub.status.busy": "2024-05-05T09:12:59.673869Z",
     "iopub.status.idle": "2024-05-05T09:12:59.685124Z",
     "shell.execute_reply": "2024-05-05T09:12:59.684236Z"
    },
    "papermill": {
     "duration": 0.043239,
     "end_time": "2024-05-05T09:12:59.687116",
     "exception": false,
     "start_time": "2024-05-05T09:12:59.643877",
     "status": "completed"
    },
    "tags": []
   },
   "outputs": [],
   "source": [
    "from sklearn.metrics.pairwise import cosine_similarity\n",
    "\n",
    "def compute_user_similarity(sparse_matrix, compute_for_few=False, top=100, verbose=False, verb_for_n_rows=20, draw_time_taken=True):\n",
    "    no_of_users, _ = sparse_matrix.shape\n",
    "    row_ind, col_ind = sparse_matrix.nonzero()\n",
    "    row_ind = sorted(set(row_ind))\n",
    "    time_taken = list()\n",
    "\n",
    "    rows, cols, data = list(), list(), list()\n",
    "    if verbose:\n",
    "        print(\"Computing top\", top, \"similarities for each user...\")\n",
    "    \n",
    "    start = datetime.now()\n",
    "    temp = 0\n",
    "    \n",
    "    for row in row_ind[:top] if compute_for_few else row_ind:\n",
    "        temp = temp + 1\n",
    "        prev = datetime.now()\n",
    "        \n",
    "        sim = cosine_similarity(sparse_matrix.getrow(row), sparse_matrix).ravel()\n",
    "        top_sim_ind = sim.argsort()[-top:]\n",
    "        top_sim_val = sim[top_sim_ind]\n",
    "        \n",
    "        rows.extend([row]*top)\n",
    "        cols.extend(top_sim_ind)\n",
    "        data.extend(top_sim_val)\n",
    "        time_taken.append(datetime.now().timestamp() - prev.timestamp())\n",
    "        \n",
    "        if verbose and temp % verb_for_n_rows == 0:\n",
    "            print(\"Computing done for {} users [  time elapsed : {}  ]\".format(temp, datetime.now() - start))\n",
    "            \n",
    "    if verbose:\n",
    "        print('Creating Sparse matrix from the computed similarities')\n",
    "    \n",
    "    if draw_time_taken:\n",
    "        plt.plot(time_taken, label='time taken for each user')\n",
    "        plt.plot(np.cumsum(time_taken), label='Total time')\n",
    "        plt.legend(loc='best')\n",
    "        plt.xlabel('User')\n",
    "        plt.ylabel('Time (in seconds)')\n",
    "        plt.show()\n",
    "        \n",
    "    return sparse.csr_matrix((data, (rows, cols)), shape=(no_of_users, no_of_users)), time_taken"
   ]
  },
  {
   "cell_type": "code",
   "execution_count": 34,
   "id": "98612fa0",
   "metadata": {
    "execution": {
     "iopub.execute_input": "2024-05-05T09:12:59.745802Z",
     "iopub.status.busy": "2024-05-05T09:12:59.745367Z",
     "iopub.status.idle": "2024-05-05T09:15:29.930550Z",
     "shell.execute_reply": "2024-05-05T09:15:29.929571Z"
    },
    "papermill": {
     "duration": 150.216805,
     "end_time": "2024-05-05T09:15:29.932600",
     "exception": false,
     "start_time": "2024-05-05T09:12:59.715795",
     "status": "completed"
    },
    "tags": []
   },
   "outputs": [
    {
     "name": "stdout",
     "output_type": "stream",
     "text": [
      "Computing top 100 similarities for each user...\n",
      "Computing done for 20 users [  time elapsed : 0:00:29.100702  ]\n",
      "Computing done for 40 users [  time elapsed : 0:00:57.919001  ]\n",
      "Computing done for 60 users [  time elapsed : 0:01:26.659219  ]\n",
      "Computing done for 80 users [  time elapsed : 0:01:55.516478  ]\n",
      "Computing done for 100 users [  time elapsed : 0:02:24.389639  ]\n",
      "Creating Sparse matrix from the computed similarities\n"
     ]
    },
    {
     "data": {
      "image/png": "[encoded data removed]",
      "text/plain": [
       "<Figure size 640x480 with 1 Axes>"
      ]
     },
     "metadata": {},
     "output_type": "display_data"
    },
    {
     "name": "stdout",
     "output_type": "stream",
     "text": [
      "----------------------------------------------------------------------------------------------------\n",
      "Time taken : 0:02:30.179980\n"
     ]
    }
   ],
   "source": [
    "start = datetime.now()\n",
    "u_u_sim_sparse, _ = compute_user_similarity(train_sparse_matrix, compute_for_few=True, top = 100,\n",
    "                                                     verbose=True)\n",
    "print(\"-\"*100)\n",
    "print(\"Time taken :\",datetime.now()-start)"
   ]
  },
  {
   "cell_type": "code",
   "execution_count": 35,
   "id": "83f04e5f",
   "metadata": {
    "execution": {
     "iopub.execute_input": "2024-05-05T09:15:29.993115Z",
     "iopub.status.busy": "2024-05-05T09:15:29.992806Z",
     "iopub.status.idle": "2024-05-05T09:15:39.501513Z",
     "shell.execute_reply": "2024-05-05T09:15:39.500564Z"
    },
    "papermill": {
     "duration": 9.541015,
     "end_time": "2024-05-05T09:15:39.503786",
     "exception": false,
     "start_time": "2024-05-05T09:15:29.962771",
     "status": "completed"
    },
    "tags": []
   },
   "outputs": [
    {
     "name": "stdout",
     "output_type": "stream",
     "text": [
      "File Found\n",
      "Done ...\n",
      "It's a  (17771, 17771)  dimensional matrix\n",
      "Loading time: 0:00:09.496521\n",
      "0:00:09.500746\n"
     ]
    }
   ],
   "source": [
    "start = datetime.now()\n",
    "similarity_file_path = '/kaggle/input/saved-results-version-1/m_m_sim_sparse.npz'\n",
    "if not os.path.isfile(similarity_file_path):\n",
    "    print(\"It seems you don't have that file. Computing movie_movie similarity...\")\n",
    "    start_computation = datetime.now()\n",
    "    m_m_sim_sparse = cosine_similarity(X=train_sparse_matrix.T, dense_output=False)\n",
    "    print(\"Done..\")\n",
    "    computation_time = datetime.now() - start_computation\n",
    "    print(\"Saving it to disk without the need of re-computing it again.. \")\n",
    "    start_saving = datetime.now()\n",
    "    sparse.save_npz(similarity_file_path, m_m_sim_sparse)\n",
    "    print(\"Done..\")\n",
    "    saving_time = datetime.now() - start_saving\n",
    "else:\n",
    "    print(\"File Found\")\n",
    "    start_loading = datetime.now()\n",
    "    m_m_sim_sparse = sparse.load_npz(similarity_file_path)\n",
    "    print(\"Done ...\")\n",
    "    loading_time = datetime.now() - start_loading\n",
    "\n",
    "print(\"It's a \", m_m_sim_sparse.shape, \" dimensional matrix\")\n",
    "\n",
    "if not os.path.isfile(similarity_file_path):\n",
    "    print(\"Computation time:\", computation_time)\n",
    "    print(\"Saving time:\", saving_time)\n",
    "else:\n",
    "    print(\"Loading time:\", loading_time)\n",
    "\n",
    "print(datetime.now() - start)"
   ]
  },
  {
   "cell_type": "code",
   "execution_count": 36,
   "id": "7aaac9e8",
   "metadata": {
    "execution": {
     "iopub.execute_input": "2024-05-05T09:15:39.567592Z",
     "iopub.status.busy": "2024-05-05T09:15:39.566551Z",
     "iopub.status.idle": "2024-05-05T09:15:41.138465Z",
     "shell.execute_reply": "2024-05-05T09:15:41.137657Z"
    },
    "papermill": {
     "duration": 1.606256,
     "end_time": "2024-05-05T09:15:41.140856",
     "exception": false,
     "start_time": "2024-05-05T09:15:39.534600",
     "status": "completed"
    },
    "tags": []
   },
   "outputs": [
    {
     "name": "stdout",
     "output_type": "stream",
     "text": [
      "(17771, 17771)\n"
     ]
    }
   ],
   "source": [
    "print(m_m_sim_sparse.shape)\n",
    "movie_ids = np.unique(m_m_sim_sparse.nonzero()[1])"
   ]
  },
  {
   "cell_type": "code",
   "execution_count": 37,
   "id": "ea19bdf4",
   "metadata": {
    "execution": {
     "iopub.execute_input": "2024-05-05T09:15:41.204230Z",
     "iopub.status.busy": "2024-05-05T09:15:41.203200Z",
     "iopub.status.idle": "2024-05-05T09:15:51.602801Z",
     "shell.execute_reply": "2024-05-05T09:15:51.601823Z"
    },
    "papermill": {
     "duration": 10.433548,
     "end_time": "2024-05-05T09:15:51.605053",
     "exception": false,
     "start_time": "2024-05-05T09:15:41.171505",
     "status": "completed"
    },
    "tags": []
   },
   "outputs": [
    {
     "name": "stdout",
     "output_type": "stream",
     "text": [
      "0:00:10.390107\n"
     ]
    },
    {
     "data": {
      "text/plain": [
       "array([ 9242, 12102, 11590,  9241, 15733, 17431, 13810, 12500, 13412,\n",
       "       10371, 14601,  9681, 14936, 12667, 13139, 16343, 15677, 13593,\n",
       "       15640, 15991, 16201, 14475, 11222, 17402, 11702, 13840, 14918,\n",
       "       13809, 15424, 16740, 10608, 13990, 16272, 16150, 11779, 13052,\n",
       "       13090, 15064, 11907, 12084, 17661, 16153, 15758, 17381, 16220,\n",
       "       12401, 17681,  9608, 14088,  9662, 10695, 12232, 17559, 13981,\n",
       "       10341, 14233, 17508, 15181, 15955, 15715, 10734, 17387, 10446,\n",
       "       13523, 14198, 14044, 16452, 15922, 14042, 12896, 12324, 11022,\n",
       "       10372, 13451, 12778, 10152, 11051, 17764, 14856, 16068, 16703,\n",
       "       14382, 15394, 14216, 12773,  9598, 10451, 12301, 16969, 17154,\n",
       "       17533, 10774, 15798, 10860, 11903, 13580,  9818, 10363, 11226,\n",
       "       15421])"
      ]
     },
     "execution_count": 37,
     "metadata": {},
     "output_type": "execute_result"
    }
   ],
   "source": [
    "start = datetime.now()\n",
    "similar_movies = {}\n",
    "\n",
    "for movie in movie_ids:\n",
    "    # Get the top similar movies and store them in the dictionary\n",
    "    sim_movies = m_m_sim_sparse[movie].toarray().ravel().argsort()[::-1][1:]\n",
    "    similar_movies[movie] = sim_movies[:100]\n",
    "\n",
    "print(datetime.now() - start)\n",
    "\n",
    "# Just testing similar movies for movie_17245\n",
    "similar_movies[17245]"
   ]
  },
  {
   "cell_type": "code",
   "execution_count": 38,
   "id": "cc9ed162",
   "metadata": {
    "execution": {
     "iopub.execute_input": "2024-05-05T09:15:51.666944Z",
     "iopub.status.busy": "2024-05-05T09:15:51.666627Z",
     "iopub.status.idle": "2024-05-05T09:15:51.719674Z",
     "shell.execute_reply": "2024-05-05T09:15:51.718852Z"
    },
    "papermill": {
     "duration": 0.085882,
     "end_time": "2024-05-05T09:15:51.721901",
     "exception": false,
     "start_time": "2024-05-05T09:15:51.636019",
     "status": "completed"
    },
    "tags": []
   },
   "outputs": [],
   "source": [
    "# First Let's load the movie details into soe dataframe..\n",
    "# movie details are in 'netflix/movie_titles.csv'\n",
    "path = \"/kaggle/input/netflix-prize-data/\"\n",
    "movie_titles = pd.read_csv(path + \"movie_titles.csv\", sep=',', header=None,\n",
    "                           usecols=[0, 1, 2],  # Specify only the first 3 columns\n",
    "                           names=['movie_id', 'year_of_release', 'title'],\n",
    "                           index_col='movie_id', encoding=\"ISO-8859-1\")"
   ]
  },
  {
   "cell_type": "code",
   "execution_count": 39,
   "id": "a4be1ba4",
   "metadata": {
    "execution": {
     "iopub.execute_input": "2024-05-05T09:15:51.783243Z",
     "iopub.status.busy": "2024-05-05T09:15:51.782891Z",
     "iopub.status.idle": "2024-05-05T09:15:51.794565Z",
     "shell.execute_reply": "2024-05-05T09:15:51.793706Z"
    },
    "papermill": {
     "duration": 0.044408,
     "end_time": "2024-05-05T09:15:51.796472",
     "exception": false,
     "start_time": "2024-05-05T09:15:51.752064",
     "status": "completed"
    },
    "tags": []
   },
   "outputs": [
    {
     "data": {
      "text/html": [
       "<div>\n",
       "<style scoped>\n",
       "    .dataframe tbody tr th:only-of-type {\n",
       "        vertical-align: middle;\n",
       "    }\n",
       "\n",
       "    .dataframe tbody tr th {\n",
       "        vertical-align: top;\n",
       "    }\n",
       "\n",
       "    .dataframe thead th {\n",
       "        text-align: right;\n",
       "    }\n",
       "</style>\n",
       "<table border=\"1\" class=\"dataframe\">\n",
       "  <thead>\n",
       "    <tr style=\"text-align: right;\">\n",
       "      <th></th>\n",
       "      <th>year_of_release</th>\n",
       "      <th>title</th>\n",
       "    </tr>\n",
       "    <tr>\n",
       "      <th>movie_id</th>\n",
       "      <th></th>\n",
       "      <th></th>\n",
       "    </tr>\n",
       "  </thead>\n",
       "  <tbody>\n",
       "    <tr>\n",
       "      <th>1</th>\n",
       "      <td>2003.0</td>\n",
       "      <td>Dinosaur Planet</td>\n",
       "    </tr>\n",
       "    <tr>\n",
       "      <th>2</th>\n",
       "      <td>2004.0</td>\n",
       "      <td>Isle of Man TT 2004 Review</td>\n",
       "    </tr>\n",
       "    <tr>\n",
       "      <th>3</th>\n",
       "      <td>1997.0</td>\n",
       "      <td>Character</td>\n",
       "    </tr>\n",
       "    <tr>\n",
       "      <th>4</th>\n",
       "      <td>1994.0</td>\n",
       "      <td>Paula Abdul's Get Up &amp; Dance</td>\n",
       "    </tr>\n",
       "    <tr>\n",
       "      <th>5</th>\n",
       "      <td>2004.0</td>\n",
       "      <td>The Rise and Fall of ECW</td>\n",
       "    </tr>\n",
       "  </tbody>\n",
       "</table>\n",
       "</div>"
      ],
      "text/plain": [
       "          year_of_release                         title\n",
       "movie_id                                               \n",
       "1                  2003.0               Dinosaur Planet\n",
       "2                  2004.0    Isle of Man TT 2004 Review\n",
       "3                  1997.0                     Character\n",
       "4                  1994.0  Paula Abdul's Get Up & Dance\n",
       "5                  2004.0      The Rise and Fall of ECW"
      ]
     },
     "execution_count": 39,
     "metadata": {},
     "output_type": "execute_result"
    }
   ],
   "source": [
    "movie_titles.head()"
   ]
  },
  {
   "cell_type": "code",
   "execution_count": 40,
   "id": "4d69f0d5",
   "metadata": {
    "execution": {
     "iopub.execute_input": "2024-05-05T09:15:51.857264Z",
     "iopub.status.busy": "2024-05-05T09:15:51.856963Z",
     "iopub.status.idle": "2024-05-05T09:15:52.054636Z",
     "shell.execute_reply": "2024-05-05T09:15:52.053703Z"
    },
    "papermill": {
     "duration": 0.230666,
     "end_time": "2024-05-05T09:15:52.056954",
     "exception": false,
     "start_time": "2024-05-05T09:15:51.826288",
     "status": "completed"
    },
    "tags": []
   },
   "outputs": [
    {
     "name": "stdout",
     "output_type": "stream",
     "text": [
      "\n",
      "Movie -----> Ma Vie En Rose\n",
      "\n",
      "It has 5267 Ratings from users.\n",
      "\n",
      "We have 8146 movies which are similarto this  and we will get only top most..\n"
     ]
    }
   ],
   "source": [
    "mv_id = 17245\n",
    "\n",
    "print(\"\\nMovie ----->\",movie_titles.loc[mv_id].values[1])\n",
    "\n",
    "print(\"\\nIt has {} Ratings from users.\".format(train_sparse_matrix[:,mv_id].getnnz()))\n",
    "\n",
    "print(\"\\nWe have {} movies which are similarto this  and we will get only top most..\".format(m_m_sim_sparse[:,mv_id].getnnz()))"
   ]
  },
  {
   "cell_type": "code",
   "execution_count": 41,
   "id": "573861d0",
   "metadata": {
    "execution": {
     "iopub.execute_input": "2024-05-05T09:15:52.119283Z",
     "iopub.status.busy": "2024-05-05T09:15:52.118922Z",
     "iopub.status.idle": "2024-05-05T09:15:52.126402Z",
     "shell.execute_reply": "2024-05-05T09:15:52.125703Z"
    },
    "papermill": {
     "duration": 0.040515,
     "end_time": "2024-05-05T09:15:52.128239",
     "exception": false,
     "start_time": "2024-05-05T09:15:52.087724",
     "status": "completed"
    },
    "tags": []
   },
   "outputs": [],
   "source": [
    "similarities = m_m_sim_sparse[mv_id].toarray().ravel()\n",
    "\n",
    "similar_indices = similarities.argsort()[::-1][1:]\n",
    "\n",
    "similarities[similar_indices]\n",
    "\n",
    "sim_indices = similarities.argsort()[::-1][1:] # It will sort and reverse the array and ignore its similarity (ie.,1)\n",
    "                                               # and return its indices(movie_ids)"
   ]
  },
  {
   "cell_type": "code",
   "execution_count": 42,
   "id": "80bd0745",
   "metadata": {
    "execution": {
     "iopub.execute_input": "2024-05-05T09:15:52.190332Z",
     "iopub.status.busy": "2024-05-05T09:15:52.189767Z",
     "iopub.status.idle": "2024-05-05T09:15:52.506489Z",
     "shell.execute_reply": "2024-05-05T09:15:52.505569Z"
    },
    "papermill": {
     "duration": 0.350481,
     "end_time": "2024-05-05T09:15:52.508459",
     "exception": false,
     "start_time": "2024-05-05T09:15:52.157978",
     "status": "completed"
    },
    "tags": []
   },
   "outputs": [
    {
     "data": {
      "image/png": "[encoded data removed]",
      "text/plain": [
       "<Figure size 640x480 with 1 Axes>"
      ]
     },
     "metadata": {},
     "output_type": "display_data"
    }
   ],
   "source": [
    "plt.plot(similarities[sim_indices], label='All the ratings')\n",
    "plt.plot(similarities[sim_indices[:100]], label='top 100 similar movies')\n",
    "plt.title(\"Similar Movies of {}(movie_id)\".format(mv_id), fontsize=20)\n",
    "plt.xlabel(\"Movies (Not Movie_Ids)\", fontsize=15)\n",
    "plt.ylabel(\"Cosine Similarity\",fontsize=15)\n",
    "plt.legend()\n",
    "plt.show()"
   ]
  },
  {
   "cell_type": "code",
   "execution_count": 43,
   "id": "dd0eaeab",
   "metadata": {
    "execution": {
     "iopub.execute_input": "2024-05-05T09:15:52.572911Z",
     "iopub.status.busy": "2024-05-05T09:15:52.572229Z",
     "iopub.status.idle": "2024-05-05T09:15:52.584476Z",
     "shell.execute_reply": "2024-05-05T09:15:52.583701Z"
    },
    "papermill": {
     "duration": 0.045853,
     "end_time": "2024-05-05T09:15:52.586461",
     "exception": false,
     "start_time": "2024-05-05T09:15:52.540608",
     "status": "completed"
    },
    "tags": []
   },
   "outputs": [
    {
     "data": {
      "text/html": [
       "<div>\n",
       "<style scoped>\n",
       "    .dataframe tbody tr th:only-of-type {\n",
       "        vertical-align: middle;\n",
       "    }\n",
       "\n",
       "    .dataframe tbody tr th {\n",
       "        vertical-align: top;\n",
       "    }\n",
       "\n",
       "    .dataframe thead th {\n",
       "        text-align: right;\n",
       "    }\n",
       "</style>\n",
       "<table border=\"1\" class=\"dataframe\">\n",
       "  <thead>\n",
       "    <tr style=\"text-align: right;\">\n",
       "      <th></th>\n",
       "      <th>year_of_release</th>\n",
       "      <th>title</th>\n",
       "    </tr>\n",
       "    <tr>\n",
       "      <th>movie_id</th>\n",
       "      <th></th>\n",
       "      <th></th>\n",
       "    </tr>\n",
       "  </thead>\n",
       "  <tbody>\n",
       "    <tr>\n",
       "      <th>9242</th>\n",
       "      <td>1999.0</td>\n",
       "      <td>All About My Mother</td>\n",
       "    </tr>\n",
       "    <tr>\n",
       "      <th>12102</th>\n",
       "      <td>2001.0</td>\n",
       "      <td>Hedwig and the Angry Inch</td>\n",
       "    </tr>\n",
       "    <tr>\n",
       "      <th>11590</th>\n",
       "      <td>1995.0</td>\n",
       "      <td>The Celluloid Closet</td>\n",
       "    </tr>\n",
       "    <tr>\n",
       "      <th>9241</th>\n",
       "      <td>2000.0</td>\n",
       "      <td>Before Night Falls</td>\n",
       "    </tr>\n",
       "    <tr>\n",
       "      <th>15733</th>\n",
       "      <td>1996.0</td>\n",
       "      <td>Welcome to the Dollhouse</td>\n",
       "    </tr>\n",
       "    <tr>\n",
       "      <th>17431</th>\n",
       "      <td>1998.0</td>\n",
       "      <td>Run Lola Run</td>\n",
       "    </tr>\n",
       "    <tr>\n",
       "      <th>13810</th>\n",
       "      <td>2000.0</td>\n",
       "      <td>I'm the One That I Want</td>\n",
       "    </tr>\n",
       "    <tr>\n",
       "      <th>12500</th>\n",
       "      <td>1999.0</td>\n",
       "      <td>Boys Don't Cry</td>\n",
       "    </tr>\n",
       "    <tr>\n",
       "      <th>13412</th>\n",
       "      <td>2000.0</td>\n",
       "      <td>Billy Elliot</td>\n",
       "    </tr>\n",
       "    <tr>\n",
       "      <th>10371</th>\n",
       "      <td>1998.0</td>\n",
       "      <td>Gods and Monsters</td>\n",
       "    </tr>\n",
       "  </tbody>\n",
       "</table>\n",
       "</div>"
      ],
      "text/plain": [
       "          year_of_release                      title\n",
       "movie_id                                            \n",
       "9242               1999.0        All About My Mother\n",
       "12102              2001.0  Hedwig and the Angry Inch\n",
       "11590              1995.0       The Celluloid Closet\n",
       "9241               2000.0         Before Night Falls\n",
       "15733              1996.0   Welcome to the Dollhouse\n",
       "17431              1998.0               Run Lola Run\n",
       "13810              2000.0    I'm the One That I Want\n",
       "12500              1999.0             Boys Don't Cry\n",
       "13412              2000.0               Billy Elliot\n",
       "10371              1998.0          Gods and Monsters"
      ]
     },
     "execution_count": 43,
     "metadata": {},
     "output_type": "execute_result"
    }
   ],
   "source": [
    "movie_titles.loc[sim_indices[:10]]"
   ]
  },
  {
   "cell_type": "code",
   "execution_count": 44,
   "id": "46a907f2",
   "metadata": {
    "execution": {
     "iopub.execute_input": "2024-05-05T09:15:52.649370Z",
     "iopub.status.busy": "2024-05-05T09:15:52.649105Z",
     "iopub.status.idle": "2024-05-05T09:15:52.652757Z",
     "shell.execute_reply": "2024-05-05T09:15:52.651946Z"
    },
    "papermill": {
     "duration": 0.037485,
     "end_time": "2024-05-05T09:15:52.654775",
     "exception": false,
     "start_time": "2024-05-05T09:15:52.617290",
     "status": "completed"
    },
    "tags": []
   },
   "outputs": [],
   "source": [
    "# ------------ML MODEL STARTS-------------------------"
   ]
  },
  {
   "cell_type": "code",
   "execution_count": 45,
   "id": "c2af7230",
   "metadata": {
    "execution": {
     "iopub.execute_input": "2024-05-05T09:15:52.718984Z",
     "iopub.status.busy": "2024-05-05T09:15:52.718397Z",
     "iopub.status.idle": "2024-05-05T09:15:52.727413Z",
     "shell.execute_reply": "2024-05-05T09:15:52.726622Z"
    },
    "papermill": {
     "duration": 0.043492,
     "end_time": "2024-05-05T09:15:52.729252",
     "exception": false,
     "start_time": "2024-05-05T09:15:52.685760",
     "status": "completed"
    },
    "tags": []
   },
   "outputs": [],
   "source": [
    "def get_sample_sparse_matrix(sparse_matrix, no_users, no_movies, path, verbose = True):\n",
    "    row_ind, col_ind, ratings = sparse.find(sparse_matrix)\n",
    "    users = np.unique(row_ind)\n",
    "    movies = np.unique(col_ind)\n",
    "\n",
    "    print(\"Original Matrix : (users, movies) -- ({} {})\".format(len(users), len(movies)))\n",
    "    print(\"Original Matrix : Ratings -- {}\\n\".format(len(ratings)))\n",
    "\n",
    "    np.random.seed(15)\n",
    "    sample_users = np.random.choice(users, no_users, replace=False)\n",
    "    sample_movies = np.random.choice(movies, no_movies, replace=False)\n",
    "    \n",
    "    mask = np.logical_and( np.isin(row_ind, sample_users),np.isin(col_ind, sample_movies) )\n",
    "    \n",
    "    sample_sparse_matrix = sparse.csr_matrix((ratings[mask], (row_ind[mask], col_ind[mask])),shape=(max(sample_users)+1, max(sample_movies)+1))\n",
    "\n",
    "    if verbose:\n",
    "        print(\"Sampled Matrix : (users, movies) -- ({} {})\".format(len(sample_users), len(sample_movies)))\n",
    "        print(\"Sampled Matrix : Ratings --\", format(ratings[mask].shape[0]))\n",
    "\n",
    "    print('Saving it into disk for furthur usage..')\n",
    "    sparse.save_npz(path, sample_sparse_matrix)\n",
    "    if verbose:\n",
    "            print('Done\\n')\n",
    "    \n",
    "    return sample_sparse_matrix"
   ]
  },
  {
   "cell_type": "code",
   "execution_count": 46,
   "id": "47767c50",
   "metadata": {
    "execution": {
     "iopub.execute_input": "2024-05-05T09:15:52.792281Z",
     "iopub.status.busy": "2024-05-05T09:15:52.791993Z",
     "iopub.status.idle": "2024-05-05T09:15:52.823389Z",
     "shell.execute_reply": "2024-05-05T09:15:52.822340Z"
    },
    "papermill": {
     "duration": 0.065385,
     "end_time": "2024-05-05T09:15:52.825301",
     "exception": false,
     "start_time": "2024-05-05T09:15:52.759916",
     "status": "completed"
    },
    "tags": []
   },
   "outputs": [
    {
     "name": "stdout",
     "output_type": "stream",
     "text": [
      "File found, getting it from disk....\n",
      "DONE\n",
      "0:00:00.026142\n"
     ]
    }
   ],
   "source": [
    "start = datetime.now()\n",
    "path = \"/kaggle/input/saved-results-version-1/sample_train_sparse_matrix.npz\"\n",
    "if os.path.isfile(path):\n",
    "    print(\"File found, getting it from disk....\")\n",
    "    sample_train_sparse_matrix = sparse.load_npz(path)\n",
    "    print(\"DONE\")\n",
    "else: \n",
    "    # Get 10k users and 1k movies from available data \n",
    "    sample_train_sparse_matrix = get_sample_sparse_matrix(train_sparse_matrix, no_users=10000, no_movies=1000, path=path)\n",
    "\n",
    "print(datetime.now() - start)"
   ]
  },
  {
   "cell_type": "code",
   "execution_count": 47,
   "id": "16fdbf98",
   "metadata": {
    "execution": {
     "iopub.execute_input": "2024-05-05T09:15:52.887943Z",
     "iopub.status.busy": "2024-05-05T09:15:52.887612Z",
     "iopub.status.idle": "2024-05-05T09:15:52.913096Z",
     "shell.execute_reply": "2024-05-05T09:15:52.912110Z"
    },
    "papermill": {
     "duration": 0.058708,
     "end_time": "2024-05-05T09:15:52.914994",
     "exception": false,
     "start_time": "2024-05-05T09:15:52.856286",
     "status": "completed"
    },
    "tags": []
   },
   "outputs": [
    {
     "name": "stdout",
     "output_type": "stream",
     "text": [
      "File Found, getting it from disk....\n",
      "DONE\n",
      "0:00:00.020059\n"
     ]
    }
   ],
   "source": [
    "start = datetime.now()\n",
    "\n",
    "path = \"/kaggle/input/saved-results-version-1/sample_test_sparse_matrix.npz\"\n",
    "if os.path.isfile(path):\n",
    "    print(\"File Found, getting it from disk....\")\n",
    "    sample_test_sparse_matrix = sparse.load_npz(path)\n",
    "    print(\"DONE\")\n",
    "else:\n",
    "    # get 5k users and 500 movies from available data \n",
    "    sample_test_sparse_matrix = get_sample_sparse_matrix(test_sparse_matrix, no_users=5000, no_movies=500, path = \"sample_test_sparse_matrix.npz\")\n",
    "print(datetime.now() - start)"
   ]
  },
  {
   "cell_type": "code",
   "execution_count": 48,
   "id": "71fe706a",
   "metadata": {
    "execution": {
     "iopub.execute_input": "2024-05-05T09:15:52.977582Z",
     "iopub.status.busy": "2024-05-05T09:15:52.977303Z",
     "iopub.status.idle": "2024-05-05T09:15:52.981012Z",
     "shell.execute_reply": "2024-05-05T09:15:52.980195Z"
    },
    "papermill": {
     "duration": 0.036945,
     "end_time": "2024-05-05T09:15:52.982923",
     "exception": false,
     "start_time": "2024-05-05T09:15:52.945978",
     "status": "completed"
    },
    "tags": []
   },
   "outputs": [],
   "source": [
    "sample_train_averages = dict()"
   ]
  },
  {
   "cell_type": "code",
   "execution_count": 49,
   "id": "e1866044",
   "metadata": {
    "execution": {
     "iopub.execute_input": "2024-05-05T09:15:53.046655Z",
     "iopub.status.busy": "2024-05-05T09:15:53.045846Z",
     "iopub.status.idle": "2024-05-05T09:15:53.084786Z",
     "shell.execute_reply": "2024-05-05T09:15:53.083883Z"
    },
    "papermill": {
     "duration": 0.072882,
     "end_time": "2024-05-05T09:15:53.086739",
     "exception": false,
     "start_time": "2024-05-05T09:15:53.013857",
     "status": "completed"
    },
    "tags": []
   },
   "outputs": [
    {
     "data": {
      "text/plain": [
       "{'global': 3.5068467698482007}"
      ]
     },
     "execution_count": 49,
     "metadata": {},
     "output_type": "execute_result"
    }
   ],
   "source": [
    "# get the global average of ratings in our train set.\n",
    "global_average = sample_train_sparse_matrix.sum()/sample_train_sparse_matrix.count_nonzero()\n",
    "sample_train_averages['global'] = global_average\n",
    "sample_train_averages"
   ]
  },
  {
   "cell_type": "code",
   "execution_count": 50,
   "id": "e6dc3f97",
   "metadata": {
    "execution": {
     "iopub.execute_input": "2024-05-05T09:15:53.151528Z",
     "iopub.status.busy": "2024-05-05T09:15:53.150857Z",
     "iopub.status.idle": "2024-05-05T09:15:53.965069Z",
     "shell.execute_reply": "2024-05-05T09:15:53.963723Z"
    },
    "papermill": {
     "duration": 0.849228,
     "end_time": "2024-05-05T09:15:53.967104",
     "exception": false,
     "start_time": "2024-05-05T09:15:53.117876",
     "status": "completed"
    },
    "tags": []
   },
   "outputs": [
    {
     "name": "stdout",
     "output_type": "stream",
     "text": [
      "\n",
      "Average rating of user 5762: 3.933333333333333\n"
     ]
    }
   ],
   "source": [
    "sample_train_averages['user'] = get_average_ratings(sample_train_sparse_matrix, of_users=True)\n",
    "# print(sample_train_averages['user'])\n",
    "print('\\nAverage rating of user 5762:', sample_train_averages['user'].get(5762, \"User not found\"))\n"
   ]
  },
  {
   "cell_type": "code",
   "execution_count": 51,
   "id": "c40abef4",
   "metadata": {
    "execution": {
     "iopub.execute_input": "2024-05-05T09:15:54.031907Z",
     "iopub.status.busy": "2024-05-05T09:15:54.031575Z",
     "iopub.status.idle": "2024-05-05T09:15:54.061802Z",
     "shell.execute_reply": "2024-05-05T09:15:54.060851Z"
    },
    "papermill": {
     "duration": 0.064782,
     "end_time": "2024-05-05T09:15:54.063815",
     "exception": false,
     "start_time": "2024-05-05T09:15:53.999033",
     "status": "completed"
    },
    "tags": []
   },
   "outputs": [
    {
     "name": "stdout",
     "output_type": "stream",
     "text": [
      "\n",
      " AVerage rating of movie 9233 : 3.0\n"
     ]
    }
   ],
   "source": [
    "sample_train_averages['movie'] =  get_average_ratings(sample_train_sparse_matrix, of_users=False)\n",
    "# print(sample_train_averages['movie'])\n",
    "print('\\n AVerage rating of movie 9233 :',sample_train_averages['movie'].get(9233,\"Movie not found\"))"
   ]
  },
  {
   "cell_type": "code",
   "execution_count": 52,
   "id": "a48df5e1",
   "metadata": {
    "execution": {
     "iopub.execute_input": "2024-05-05T09:15:54.127982Z",
     "iopub.status.busy": "2024-05-05T09:15:54.127656Z",
     "iopub.status.idle": "2024-05-05T09:15:54.135937Z",
     "shell.execute_reply": "2024-05-05T09:15:54.134883Z"
    },
    "papermill": {
     "duration": 0.042419,
     "end_time": "2024-05-05T09:15:54.137903",
     "exception": false,
     "start_time": "2024-05-05T09:15:54.095484",
     "status": "completed"
    },
    "tags": []
   },
   "outputs": [
    {
     "name": "stdout",
     "output_type": "stream",
     "text": [
      "\n",
      " No of ratings in Our Sampled train matrix is : 107642\n",
      "\n",
      "\n",
      " No of ratings in Our Sampled test  matrix is : 9249\n",
      "\n"
     ]
    }
   ],
   "source": [
    "print('\\n No of ratings in Our Sampled train matrix is : {}\\n'.format(sample_train_sparse_matrix.count_nonzero()))\n",
    "print('\\n No of ratings in Our Sampled test  matrix is : {}\\n'.format(sample_test_sparse_matrix.count_nonzero()))"
   ]
  },
  {
   "cell_type": "code",
   "execution_count": 53,
   "id": "7fc00766",
   "metadata": {
    "execution": {
     "iopub.execute_input": "2024-05-05T09:15:54.201897Z",
     "iopub.status.busy": "2024-05-05T09:15:54.201581Z",
     "iopub.status.idle": "2024-05-05T09:15:54.223056Z",
     "shell.execute_reply": "2024-05-05T09:15:54.222225Z"
    },
    "papermill": {
     "duration": 0.055577,
     "end_time": "2024-05-05T09:15:54.224890",
     "exception": false,
     "start_time": "2024-05-05T09:15:54.169313",
     "status": "completed"
    },
    "tags": []
   },
   "outputs": [],
   "source": [
    "# get users, movies and ratings from our samples train sparse matrix\n",
    "sample_train_users, sample_train_movies, sample_train_ratings = sparse.find(sample_train_sparse_matrix)"
   ]
  },
  {
   "cell_type": "code",
   "execution_count": 54,
   "id": "f3d05a0a",
   "metadata": {
    "execution": {
     "iopub.execute_input": "2024-05-05T09:15:54.288144Z",
     "iopub.status.busy": "2024-05-05T09:15:54.287849Z",
     "iopub.status.idle": "2024-05-05T09:15:54.303069Z",
     "shell.execute_reply": "2024-05-05T09:15:54.302115Z"
    },
    "papermill": {
     "duration": 0.048801,
     "end_time": "2024-05-05T09:15:54.304964",
     "exception": false,
     "start_time": "2024-05-05T09:15:54.256163",
     "status": "completed"
    },
    "tags": []
   },
   "outputs": [
    {
     "name": "stdout",
     "output_type": "stream",
     "text": [
      "File already exists you don't have to prepare again...\n",
      "0:00:00.002020\n"
     ]
    }
   ],
   "source": [
    "start = datetime.now()\n",
    "if os.path.isfile('/kaggle/input/saved-results-version-1/reg_train.csv'):\n",
    "    print(\"File already exists you don't have to prepare again...\" )\n",
    "else:\n",
    "    print('preparing {} tuples for the dataset..\\n'.format(len(sample_train_ratings)))\n",
    "    with open('reg_train.csv', mode='w') as reg_data_file:\n",
    "        count = 0\n",
    "        for (user, movie, rating)  in zip(sample_train_users, sample_train_movies, sample_train_ratings):\n",
    "            st = datetime.now()\n",
    "        #     print(user, movie)    \n",
    "            #--------------------- Ratings of \"movie\" by similar users of \"user\" ---------------------\n",
    "            # compute the similar Users of the \"user\"        \n",
    "            user_sim = cosine_similarity(sample_train_sparse_matrix[user], sample_train_sparse_matrix).ravel()\n",
    "            top_sim_users = user_sim.argsort()[::-1][1:] # we are ignoring 'The User' from its similar users.\n",
    "            # get the ratings of most similar users for this movie\n",
    "            top_ratings = sample_train_sparse_matrix[top_sim_users, movie].toarray().ravel()\n",
    "            # we will make it's length \"5\" by adding movie averages to .\n",
    "            top_sim_users_ratings = list(top_ratings[top_ratings != 0][:5])\n",
    "            top_sim_users_ratings.extend([sample_train_averages['movie'][movie]]*(5 - len(top_sim_users_ratings)))\n",
    "        #     print(top_sim_users_ratings, end=\" \")    \n",
    "\n",
    "\n",
    "            #--------------------- Ratings by \"user\"  to similar movies of \"movie\" ---------------------\n",
    "            # compute the similar movies of the \"movie\"        \n",
    "            movie_sim = cosine_similarity(sample_train_sparse_matrix[:,movie].T, sample_train_sparse_matrix.T).ravel()\n",
    "            top_sim_movies = movie_sim.argsort()[::-1][1:] # we are ignoring 'The User' from its similar users.\n",
    "            # get the ratings of most similar movie rated by this user..\n",
    "            top_ratings = sample_train_sparse_matrix[user, top_sim_movies].toarray().ravel()\n",
    "            # we will make it's length \"5\" by adding user averages to.\n",
    "            top_sim_movies_ratings = list(top_ratings[top_ratings != 0][:5])\n",
    "            top_sim_movies_ratings.extend([sample_train_averages['user'][user]]*(5-len(top_sim_movies_ratings))) \n",
    "        #     print(top_sim_movies_ratings, end=\" : -- \")\n",
    "\n",
    "            #-----------------prepare the row to be stores in a file-----------------#\n",
    "            row = list()\n",
    "            row.append(user)\n",
    "            row.append(movie)\n",
    "            # Now add the other features to this data...\n",
    "            row.append(sample_train_averages['global']) # first feature\n",
    "            # next 5 features are similar_users \"movie\" ratings\n",
    "            row.extend(top_sim_users_ratings)\n",
    "            # next 5 features are \"user\" ratings for similar_movies\n",
    "            row.extend(top_sim_movies_ratings)\n",
    "            # Avg_user rating\n",
    "            row.append(sample_train_averages['user'][user])\n",
    "            # Avg_movie rating\n",
    "            row.append(sample_train_averages['movie'][movie])\n",
    "\n",
    "            # finalley, The actual Rating of this user-movie pair...\n",
    "            row.append(rating)\n",
    "            count = count + 1\n",
    "\n",
    "            # add rows to the file opened..\n",
    "            reg_data_file.write(','.join(map(str, row)))\n",
    "            reg_data_file.write('\\n')        \n",
    "            if (count)%10000 == 0:\n",
    "                # print(','.join(map(str, row)))\n",
    "                print(\"Done for {} rows----- {}\".format(count, datetime.now() - start))\n",
    "\n",
    "\n",
    "print(datetime.now() - start)"
   ]
  },
  {
   "cell_type": "code",
   "execution_count": 55,
   "id": "6c8b8177",
   "metadata": {
    "execution": {
     "iopub.execute_input": "2024-05-05T09:15:54.369129Z",
     "iopub.status.busy": "2024-05-05T09:15:54.368830Z",
     "iopub.status.idle": "2024-05-05T09:15:54.607280Z",
     "shell.execute_reply": "2024-05-05T09:15:54.606311Z"
    },
    "papermill": {
     "duration": 0.273095,
     "end_time": "2024-05-05T09:15:54.609351",
     "exception": false,
     "start_time": "2024-05-05T09:15:54.336256",
     "status": "completed"
    },
    "tags": []
   },
   "outputs": [
    {
     "data": {
      "text/html": [
       "<div>\n",
       "<style scoped>\n",
       "    .dataframe tbody tr th:only-of-type {\n",
       "        vertical-align: middle;\n",
       "    }\n",
       "\n",
       "    .dataframe tbody tr th {\n",
       "        vertical-align: top;\n",
       "    }\n",
       "\n",
       "    .dataframe thead th {\n",
       "        text-align: right;\n",
       "    }\n",
       "</style>\n",
       "<table border=\"1\" class=\"dataframe\">\n",
       "  <thead>\n",
       "    <tr style=\"text-align: right;\">\n",
       "      <th></th>\n",
       "      <th>user</th>\n",
       "      <th>movie</th>\n",
       "      <th>GAvg</th>\n",
       "      <th>sur1</th>\n",
       "      <th>sur2</th>\n",
       "      <th>sur3</th>\n",
       "      <th>sur4</th>\n",
       "      <th>sur5</th>\n",
       "      <th>smr1</th>\n",
       "      <th>smr2</th>\n",
       "      <th>smr3</th>\n",
       "      <th>smr4</th>\n",
       "      <th>smr5</th>\n",
       "      <th>UAvg</th>\n",
       "      <th>MAvg</th>\n",
       "      <th>rating</th>\n",
       "    </tr>\n",
       "  </thead>\n",
       "  <tbody>\n",
       "    <tr>\n",
       "      <th>0</th>\n",
       "      <td>7</td>\n",
       "      <td>9229</td>\n",
       "      <td>3.506847</td>\n",
       "      <td>4.0</td>\n",
       "      <td>4.0</td>\n",
       "      <td>3.0</td>\n",
       "      <td>4.0</td>\n",
       "      <td>3.0</td>\n",
       "      <td>4.0</td>\n",
       "      <td>2.0</td>\n",
       "      <td>5.0</td>\n",
       "      <td>3.0</td>\n",
       "      <td>4.0</td>\n",
       "      <td>3.846154</td>\n",
       "      <td>3.497354</td>\n",
       "      <td>3</td>\n",
       "    </tr>\n",
       "    <tr>\n",
       "      <th>1</th>\n",
       "      <td>7</td>\n",
       "      <td>9471</td>\n",
       "      <td>3.506847</td>\n",
       "      <td>2.0</td>\n",
       "      <td>3.0</td>\n",
       "      <td>4.0</td>\n",
       "      <td>5.0</td>\n",
       "      <td>3.0</td>\n",
       "      <td>4.0</td>\n",
       "      <td>3.0</td>\n",
       "      <td>5.0</td>\n",
       "      <td>2.0</td>\n",
       "      <td>2.0</td>\n",
       "      <td>3.846154</td>\n",
       "      <td>3.730362</td>\n",
       "      <td>3</td>\n",
       "    </tr>\n",
       "    <tr>\n",
       "      <th>2</th>\n",
       "      <td>7</td>\n",
       "      <td>9481</td>\n",
       "      <td>3.506847</td>\n",
       "      <td>4.0</td>\n",
       "      <td>5.0</td>\n",
       "      <td>3.0</td>\n",
       "      <td>3.0</td>\n",
       "      <td>3.0</td>\n",
       "      <td>3.0</td>\n",
       "      <td>4.0</td>\n",
       "      <td>5.0</td>\n",
       "      <td>5.0</td>\n",
       "      <td>4.0</td>\n",
       "      <td>3.846154</td>\n",
       "      <td>3.647135</td>\n",
       "      <td>5</td>\n",
       "    </tr>\n",
       "    <tr>\n",
       "      <th>3</th>\n",
       "      <td>7</td>\n",
       "      <td>9613</td>\n",
       "      <td>3.506847</td>\n",
       "      <td>4.0</td>\n",
       "      <td>3.0</td>\n",
       "      <td>3.0</td>\n",
       "      <td>5.0</td>\n",
       "      <td>3.0</td>\n",
       "      <td>4.0</td>\n",
       "      <td>3.0</td>\n",
       "      <td>4.0</td>\n",
       "      <td>4.0</td>\n",
       "      <td>3.0</td>\n",
       "      <td>3.846154</td>\n",
       "      <td>3.082627</td>\n",
       "      <td>4</td>\n",
       "    </tr>\n",
       "    <tr>\n",
       "      <th>4</th>\n",
       "      <td>7</td>\n",
       "      <td>9685</td>\n",
       "      <td>3.506847</td>\n",
       "      <td>4.0</td>\n",
       "      <td>3.0</td>\n",
       "      <td>3.0</td>\n",
       "      <td>5.0</td>\n",
       "      <td>2.0</td>\n",
       "      <td>4.0</td>\n",
       "      <td>2.0</td>\n",
       "      <td>4.0</td>\n",
       "      <td>5.0</td>\n",
       "      <td>3.0</td>\n",
       "      <td>3.846154</td>\n",
       "      <td>3.228119</td>\n",
       "      <td>4</td>\n",
       "    </tr>\n",
       "  </tbody>\n",
       "</table>\n",
       "</div>"
      ],
      "text/plain": [
       "   user  movie      GAvg  sur1  sur2  sur3  sur4  sur5  smr1  smr2  smr3  \\\n",
       "0     7   9229  3.506847   4.0   4.0   3.0   4.0   3.0   4.0   2.0   5.0   \n",
       "1     7   9471  3.506847   2.0   3.0   4.0   5.0   3.0   4.0   3.0   5.0   \n",
       "2     7   9481  3.506847   4.0   5.0   3.0   3.0   3.0   3.0   4.0   5.0   \n",
       "3     7   9613  3.506847   4.0   3.0   3.0   5.0   3.0   4.0   3.0   4.0   \n",
       "4     7   9685  3.506847   4.0   3.0   3.0   5.0   2.0   4.0   2.0   4.0   \n",
       "\n",
       "   smr4  smr5      UAvg      MAvg  rating  \n",
       "0   3.0   4.0  3.846154  3.497354       3  \n",
       "1   2.0   2.0  3.846154  3.730362       3  \n",
       "2   5.0   4.0  3.846154  3.647135       5  \n",
       "3   4.0   3.0  3.846154  3.082627       4  \n",
       "4   5.0   3.0  3.846154  3.228119       4  "
      ]
     },
     "execution_count": 55,
     "metadata": {},
     "output_type": "execute_result"
    }
   ],
   "source": [
    "reg_train = pd.read_csv('/kaggle/input/saved-results-version-1/reg_train.csv', names = ['user', 'movie', 'GAvg', 'sur1', 'sur2', 'sur3', 'sur4', 'sur5','smr1', 'smr2', 'smr3', 'smr4', 'smr5', 'UAvg', 'MAvg', 'rating'], header=None)\n",
    "reg_train.head()"
   ]
  },
  {
   "cell_type": "code",
   "execution_count": 56,
   "id": "68194766",
   "metadata": {
    "execution": {
     "iopub.execute_input": "2024-05-05T09:15:54.681026Z",
     "iopub.status.busy": "2024-05-05T09:15:54.680276Z",
     "iopub.status.idle": "2024-05-05T09:15:54.688897Z",
     "shell.execute_reply": "2024-05-05T09:15:54.688108Z"
    },
    "papermill": {
     "duration": 0.046274,
     "end_time": "2024-05-05T09:15:54.691122",
     "exception": false,
     "start_time": "2024-05-05T09:15:54.644848",
     "status": "completed"
    },
    "tags": []
   },
   "outputs": [],
   "source": [
    "# get users, movies and ratings from the Sampled Test \n",
    "sample_test_users, sample_test_movies, sample_test_ratings = sparse.find(sample_test_sparse_matrix)"
   ]
  },
  {
   "cell_type": "code",
   "execution_count": 57,
   "id": "fe0432eb",
   "metadata": {
    "execution": {
     "iopub.execute_input": "2024-05-05T09:15:54.770510Z",
     "iopub.status.busy": "2024-05-05T09:15:54.769570Z",
     "iopub.status.idle": "2024-05-05T09:15:54.776162Z",
     "shell.execute_reply": "2024-05-05T09:15:54.775192Z"
    },
    "papermill": {
     "duration": 0.047366,
     "end_time": "2024-05-05T09:15:54.778520",
     "exception": false,
     "start_time": "2024-05-05T09:15:54.731154",
     "status": "completed"
    },
    "tags": []
   },
   "outputs": [
    {
     "data": {
      "text/plain": [
       "3.5068467698482007"
      ]
     },
     "execution_count": 57,
     "metadata": {},
     "output_type": "execute_result"
    }
   ],
   "source": [
    "sample_train_averages['global']"
   ]
  },
  {
   "cell_type": "code",
   "execution_count": 58,
   "id": "38fa5305",
   "metadata": {
    "execution": {
     "iopub.execute_input": "2024-05-05T09:15:54.854931Z",
     "iopub.status.busy": "2024-05-05T09:15:54.854160Z",
     "iopub.status.idle": "2024-05-05T09:15:54.876479Z",
     "shell.execute_reply": "2024-05-05T09:15:54.875316Z"
    },
    "papermill": {
     "duration": 0.062039,
     "end_time": "2024-05-05T09:15:54.878572",
     "exception": false,
     "start_time": "2024-05-05T09:15:54.816533",
     "status": "completed"
    },
    "tags": []
   },
   "outputs": [
    {
     "name": "stdout",
     "output_type": "stream",
     "text": [
      "It is already created...\n"
     ]
    }
   ],
   "source": [
    "start = datetime.now()\n",
    "\n",
    "if os.path.isfile('/kaggle/input/savedresult2/reg_test.csv'):\n",
    "    print(\"It is already created...\")\n",
    "else:\n",
    "\n",
    "    print('preparing {} tuples for the dataset..\\n'.format(len(sample_test_ratings)))\n",
    "    with open('reg_test.csv', mode='w') as reg_data_file:\n",
    "        count = 0 \n",
    "        for (user, movie, rating)  in zip(sample_test_users, sample_test_movies, sample_test_ratings):\n",
    "            st = datetime.now()\n",
    "\n",
    "        #--------------------- Ratings of \"movie\" by similar users of \"user\" ---------------------\n",
    "            #print(user, movie)\n",
    "            try:\n",
    "                # compute the similar Users of the \"user\"        \n",
    "                user_sim = cosine_similarity(sample_train_sparse_matrix[user], sample_train_sparse_matrix).ravel()\n",
    "                top_sim_users = user_sim.argsort()[::-1][1:] # we are ignoring 'The User' from its similar users.\n",
    "                # get the ratings of most similar users for this movie\n",
    "                top_ratings = sample_train_sparse_matrix[top_sim_users, movie].toarray().ravel()\n",
    "                # we will make it's length \"5\" by adding movie averages to .\n",
    "                top_sim_users_ratings = list(top_ratings[top_ratings != 0][:5])\n",
    "                top_sim_users_ratings.extend([sample_train_averages['movie'][movie]]*(5 - len(top_sim_users_ratings)))\n",
    "                # print(top_sim_users_ratings, end=\"--\")\n",
    "\n",
    "            except (IndexError, KeyError):\n",
    "                # It is a new User or new Movie or there are no ratings for given user for top similar movies...\n",
    "                ########## Cold STart Problem ##########\n",
    "                top_sim_users_ratings.extend([sample_train_averages['global']]*(5 - len(top_sim_users_ratings)))\n",
    "                #print(top_sim_users_ratings)\n",
    "            except:\n",
    "                print(user, movie)\n",
    "                # we just want KeyErrors to be resolved. Not every Exception...\n",
    "                raise\n",
    "\n",
    "\n",
    "\n",
    "            #--------------------- Ratings by \"user\"  to similar movies of \"movie\" ---------------------\n",
    "            try:\n",
    "                # compute the similar movies of the \"movie\"        \n",
    "                movie_sim = cosine_similarity(sample_train_sparse_matrix[:,movie].T, sample_train_sparse_matrix.T).ravel()\n",
    "                top_sim_movies = movie_sim.argsort()[::-1][1:] # we are ignoring 'The User' from its similar users.\n",
    "                # get the ratings of most similar movie rated by this user..\n",
    "                top_ratings = sample_train_sparse_matrix[user, top_sim_movies].toarray().ravel()\n",
    "                # we will make it's length \"5\" by adding user averages to.\n",
    "                top_sim_movies_ratings = list(top_ratings[top_ratings != 0][:5])\n",
    "                top_sim_movies_ratings.extend([sample_train_averages['user'][user]]*(5-len(top_sim_movies_ratings))) \n",
    "                #print(top_sim_movies_ratings)\n",
    "            except (IndexError, KeyError):\n",
    "                #print(top_sim_movies_ratings, end=\" : -- \")\n",
    "                top_sim_movies_ratings.extend([sample_train_averages['global']]*(5-len(top_sim_movies_ratings)))\n",
    "                #print(top_sim_movies_ratings)\n",
    "            except :\n",
    "                raise\n",
    "\n",
    "            #-----------------prepare the row to be stores in a file-----------------#\n",
    "            row = list()\n",
    "            # add usser and movie name first\n",
    "            row.append(user)\n",
    "            row.append(movie)\n",
    "            row.append(sample_train_averages['global']) # first feature\n",
    "            #print(row)\n",
    "            # next 5 features are similar_users \"movie\" ratings\n",
    "            row.extend(top_sim_users_ratings)\n",
    "            #print(row)\n",
    "            # next 5 features are \"user\" ratings for similar_movies\n",
    "            row.extend(top_sim_movies_ratings)\n",
    "            #print(row)\n",
    "            # Avg_user rating\n",
    "            try:\n",
    "                row.append(sample_train_averages['user'][user])\n",
    "            except KeyError:\n",
    "                row.append(sample_train_averages['global'])\n",
    "            except:\n",
    "                raise\n",
    "            #print(row)\n",
    "            # Avg_movie rating\n",
    "            try:\n",
    "                row.append(sample_train_averages['movie'][movie])\n",
    "            except KeyError:\n",
    "                row.append(sample_train_averages['global'])\n",
    "            except:\n",
    "                raise\n",
    "            #print(row)\n",
    "            # finalley, The actual Rating of this user-movie pair...\n",
    "            row.append(rating)\n",
    "            #print(row)\n",
    "            count = count + 1\n",
    "\n",
    "            # add rows to the file opened..\n",
    "            reg_data_file.write(','.join(map(str, row)))\n",
    "            #print(','.join(map(str, row)))\n",
    "            reg_data_file.write('\\n')        \n",
    "            if (count)%1000 == 0:\n",
    "                #print(','.join(map(str, row)))\n",
    "                print(\"Done for {} rows----- {}\".format(count, datetime.now() - start))\n",
    "    print(\"\",datetime.now() - start) "
   ]
  },
  {
   "cell_type": "code",
   "execution_count": 59,
   "id": "fe919208",
   "metadata": {
    "execution": {
     "iopub.execute_input": "2024-05-05T09:15:54.951852Z",
     "iopub.status.busy": "2024-05-05T09:15:54.951492Z",
     "iopub.status.idle": "2024-05-05T09:15:55.010418Z",
     "shell.execute_reply": "2024-05-05T09:15:55.009531Z"
    },
    "papermill": {
     "duration": 0.098323,
     "end_time": "2024-05-05T09:15:55.012582",
     "exception": false,
     "start_time": "2024-05-05T09:15:54.914259",
     "status": "completed"
    },
    "tags": []
   },
   "outputs": [
    {
     "data": {
      "text/html": [
       "<div>\n",
       "<style scoped>\n",
       "    .dataframe tbody tr th:only-of-type {\n",
       "        vertical-align: middle;\n",
       "    }\n",
       "\n",
       "    .dataframe tbody tr th {\n",
       "        vertical-align: top;\n",
       "    }\n",
       "\n",
       "    .dataframe thead th {\n",
       "        text-align: right;\n",
       "    }\n",
       "</style>\n",
       "<table border=\"1\" class=\"dataframe\">\n",
       "  <thead>\n",
       "    <tr style=\"text-align: right;\">\n",
       "      <th></th>\n",
       "      <th>user</th>\n",
       "      <th>movie</th>\n",
       "      <th>GAvg</th>\n",
       "      <th>sur1</th>\n",
       "      <th>sur2</th>\n",
       "      <th>sur3</th>\n",
       "      <th>sur4</th>\n",
       "      <th>sur5</th>\n",
       "      <th>smr1</th>\n",
       "      <th>smr2</th>\n",
       "      <th>smr3</th>\n",
       "      <th>smr4</th>\n",
       "      <th>smr5</th>\n",
       "      <th>UAvg</th>\n",
       "      <th>MAvg</th>\n",
       "      <th>rating</th>\n",
       "    </tr>\n",
       "  </thead>\n",
       "  <tbody>\n",
       "    <tr>\n",
       "      <th>0</th>\n",
       "      <td>756</td>\n",
       "      <td>9552</td>\n",
       "      <td>3.506847</td>\n",
       "      <td>3.506847</td>\n",
       "      <td>3.506847</td>\n",
       "      <td>3.506847</td>\n",
       "      <td>3.506847</td>\n",
       "      <td>3.506847</td>\n",
       "      <td>3.506847</td>\n",
       "      <td>3.506847</td>\n",
       "      <td>3.506847</td>\n",
       "      <td>3.506847</td>\n",
       "      <td>3.506847</td>\n",
       "      <td>3.506847</td>\n",
       "      <td>3.506847</td>\n",
       "      <td>2</td>\n",
       "    </tr>\n",
       "    <tr>\n",
       "      <th>1</th>\n",
       "      <td>756</td>\n",
       "      <td>11427</td>\n",
       "      <td>3.506847</td>\n",
       "      <td>3.000000</td>\n",
       "      <td>1.000000</td>\n",
       "      <td>5.000000</td>\n",
       "      <td>4.000000</td>\n",
       "      <td>4.000000</td>\n",
       "      <td>3.506847</td>\n",
       "      <td>3.506847</td>\n",
       "      <td>3.506847</td>\n",
       "      <td>3.506847</td>\n",
       "      <td>3.506847</td>\n",
       "      <td>3.506847</td>\n",
       "      <td>3.773913</td>\n",
       "      <td>4</td>\n",
       "    </tr>\n",
       "    <tr>\n",
       "      <th>2</th>\n",
       "      <td>756</td>\n",
       "      <td>17033</td>\n",
       "      <td>3.506847</td>\n",
       "      <td>3.506847</td>\n",
       "      <td>3.506847</td>\n",
       "      <td>3.506847</td>\n",
       "      <td>3.506847</td>\n",
       "      <td>3.506847</td>\n",
       "      <td>3.506847</td>\n",
       "      <td>3.506847</td>\n",
       "      <td>3.506847</td>\n",
       "      <td>3.506847</td>\n",
       "      <td>3.506847</td>\n",
       "      <td>3.506847</td>\n",
       "      <td>3.506847</td>\n",
       "      <td>4</td>\n",
       "    </tr>\n",
       "    <tr>\n",
       "      <th>3</th>\n",
       "      <td>1485</td>\n",
       "      <td>10491</td>\n",
       "      <td>3.506847</td>\n",
       "      <td>3.506847</td>\n",
       "      <td>3.506847</td>\n",
       "      <td>3.506847</td>\n",
       "      <td>3.506847</td>\n",
       "      <td>3.506847</td>\n",
       "      <td>3.506847</td>\n",
       "      <td>3.506847</td>\n",
       "      <td>3.506847</td>\n",
       "      <td>3.506847</td>\n",
       "      <td>3.506847</td>\n",
       "      <td>3.506847</td>\n",
       "      <td>3.506847</td>\n",
       "      <td>1</td>\n",
       "    </tr>\n",
       "  </tbody>\n",
       "</table>\n",
       "</div>"
      ],
      "text/plain": [
       "   user  movie      GAvg      sur1      sur2      sur3      sur4      sur5  \\\n",
       "0   756   9552  3.506847  3.506847  3.506847  3.506847  3.506847  3.506847   \n",
       "1   756  11427  3.506847  3.000000  1.000000  5.000000  4.000000  4.000000   \n",
       "2   756  17033  3.506847  3.506847  3.506847  3.506847  3.506847  3.506847   \n",
       "3  1485  10491  3.506847  3.506847  3.506847  3.506847  3.506847  3.506847   \n",
       "\n",
       "       smr1      smr2      smr3      smr4      smr5      UAvg      MAvg  \\\n",
       "0  3.506847  3.506847  3.506847  3.506847  3.506847  3.506847  3.506847   \n",
       "1  3.506847  3.506847  3.506847  3.506847  3.506847  3.506847  3.773913   \n",
       "2  3.506847  3.506847  3.506847  3.506847  3.506847  3.506847  3.506847   \n",
       "3  3.506847  3.506847  3.506847  3.506847  3.506847  3.506847  3.506847   \n",
       "\n",
       "   rating  \n",
       "0       2  \n",
       "1       4  \n",
       "2       4  \n",
       "3       1  "
      ]
     },
     "execution_count": 59,
     "metadata": {},
     "output_type": "execute_result"
    }
   ],
   "source": [
    "reg_test_df = pd.read_csv('/kaggle/input/savedresult2/reg_test.csv', names = ['user', 'movie', 'GAvg', 'sur1', 'sur2', 'sur3', 'sur4', 'sur5',\n",
    "                                                          'smr1', 'smr2', 'smr3', 'smr4', 'smr5',\n",
    "                                                          'UAvg', 'MAvg', 'rating'], header=None)\n",
    "reg_test_df.head(4)"
   ]
  },
  {
   "cell_type": "code",
   "execution_count": 60,
   "id": "6cbf96eb",
   "metadata": {
    "execution": {
     "iopub.execute_input": "2024-05-05T09:15:55.079026Z",
     "iopub.status.busy": "2024-05-05T09:15:55.078742Z",
     "iopub.status.idle": "2024-05-05T09:15:55.429839Z",
     "shell.execute_reply": "2024-05-05T09:15:55.429041Z"
    },
    "papermill": {
     "duration": 0.386768,
     "end_time": "2024-05-05T09:15:55.432096",
     "exception": false,
     "start_time": "2024-05-05T09:15:55.045328",
     "status": "completed"
    },
    "tags": []
   },
   "outputs": [],
   "source": [
    "from surprise import Reader, Dataset"
   ]
  },
  {
   "cell_type": "code",
   "execution_count": 61,
   "id": "aa9e91a7",
   "metadata": {
    "execution": {
     "iopub.execute_input": "2024-05-05T09:15:55.499482Z",
     "iopub.status.busy": "2024-05-05T09:15:55.498966Z",
     "iopub.status.idle": "2024-05-05T09:15:55.763139Z",
     "shell.execute_reply": "2024-05-05T09:15:55.762106Z"
    },
    "papermill": {
     "duration": 0.30051,
     "end_time": "2024-05-05T09:15:55.765561",
     "exception": false,
     "start_time": "2024-05-05T09:15:55.465051",
     "status": "completed"
    },
    "tags": []
   },
   "outputs": [],
   "source": [
    "# It is to specify how to read the dataframe.\n",
    "# for our dataframe, we don't have to specify anything extra..\n",
    "reader = Reader(rating_scale=(1,5))\n",
    "\n",
    "# create the traindata from the dataframe...\n",
    "train_data = Dataset.load_from_df(reg_train[['user', 'movie', 'rating']], reader)\n",
    "\n",
    "# build the trainset from traindata.., It is of dataset format from surprise library..\n",
    "trainset = train_data.build_full_trainset() "
   ]
  },
  {
   "cell_type": "code",
   "execution_count": 62,
   "id": "3aa2646d",
   "metadata": {
    "execution": {
     "iopub.execute_input": "2024-05-05T09:15:55.832628Z",
     "iopub.status.busy": "2024-05-05T09:15:55.831943Z",
     "iopub.status.idle": "2024-05-05T09:15:55.842078Z",
     "shell.execute_reply": "2024-05-05T09:15:55.841242Z"
    },
    "papermill": {
     "duration": 0.045354,
     "end_time": "2024-05-05T09:15:55.843931",
     "exception": false,
     "start_time": "2024-05-05T09:15:55.798577",
     "status": "completed"
    },
    "tags": []
   },
   "outputs": [
    {
     "data": {
      "text/plain": [
       "[(756, 9552, 2), (756, 11427, 4), (756, 17033, 4)]"
      ]
     },
     "execution_count": 62,
     "metadata": {},
     "output_type": "execute_result"
    }
   ],
   "source": [
    "testset = list(zip(reg_test_df.user.values, reg_test_df.movie.values, reg_test_df.rating.values))\n",
    "testset[:3]"
   ]
  },
  {
   "cell_type": "code",
   "execution_count": 63,
   "id": "826bafe6",
   "metadata": {
    "execution": {
     "iopub.execute_input": "2024-05-05T09:15:55.911171Z",
     "iopub.status.busy": "2024-05-05T09:15:55.910578Z",
     "iopub.status.idle": "2024-05-05T09:15:55.916536Z",
     "shell.execute_reply": "2024-05-05T09:15:55.915727Z"
    },
    "papermill": {
     "duration": 0.042284,
     "end_time": "2024-05-05T09:15:55.918529",
     "exception": false,
     "start_time": "2024-05-05T09:15:55.876245",
     "status": "completed"
    },
    "tags": []
   },
   "outputs": [
    {
     "data": {
      "text/plain": [
       "({}, {})"
      ]
     },
     "execution_count": 63,
     "metadata": {},
     "output_type": "execute_result"
    }
   ],
   "source": [
    "models_evaluation_train = dict()\n",
    "models_evaluation_test = dict()\n",
    "\n",
    "models_evaluation_train, models_evaluation_test"
   ]
  },
  {
   "cell_type": "code",
   "execution_count": 64,
   "id": "01f0382a",
   "metadata": {
    "execution": {
     "iopub.execute_input": "2024-05-05T09:15:55.985136Z",
     "iopub.status.busy": "2024-05-05T09:15:55.984580Z",
     "iopub.status.idle": "2024-05-05T09:15:55.995109Z",
     "shell.execute_reply": "2024-05-05T09:15:55.994277Z"
    },
    "papermill": {
     "duration": 0.045081,
     "end_time": "2024-05-05T09:15:55.996929",
     "exception": false,
     "start_time": "2024-05-05T09:15:55.951848",
     "status": "completed"
    },
    "tags": []
   },
   "outputs": [],
   "source": [
    "# to get rmse and mape given actual and predicted ratings..\n",
    "def get_error_metrics(y_true, y_pred):\n",
    "    rmse = np.sqrt(np.mean([ (y_true[i] - y_pred[i])**2 for i in range(len(y_pred)) ]))\n",
    "    mape = np.mean(np.abs( (y_true - y_pred)/y_true )) * 100\n",
    "    return rmse, mape\n",
    "\n",
    "###################################################################\n",
    "###################################################################\n",
    "def run_xgboost(algo,  x_train, y_train, x_test, y_test, verbose=True):\n",
    "    \"\"\"\n",
    "    It will return train_results and test_results\n",
    "    \"\"\"\n",
    "    \n",
    "    # dictionaries for storing train and test results\n",
    "    train_results = dict()\n",
    "    test_results = dict()\n",
    "    \n",
    "    \n",
    "    # fit the model\n",
    "    print('Training the model..')\n",
    "    start =datetime.now()\n",
    "    algo.fit(x_train, y_train, eval_metric = 'rmse')\n",
    "    print('Done. Time taken : {}\\n'.format(datetime.now()-start))\n",
    "    print('Done \\n')\n",
    "\n",
    "    # from the trained model, get the predictions....\n",
    "    print('Evaluating the model with TRAIN data...')\n",
    "    start =datetime.now()\n",
    "    y_train_pred = algo.predict(x_train)\n",
    "    # get the rmse and mape of train data...\n",
    "    rmse_train, mape_train = get_error_metrics(y_train.values, y_train_pred)\n",
    "    \n",
    "    # store the results in train_results dictionary..\n",
    "    train_results = {'rmse': rmse_train,\n",
    "                    'mape' : mape_train,\n",
    "                    'predictions' : y_train_pred}\n",
    "    \n",
    "    #######################################\n",
    "    # get the test data predictions and compute rmse and mape\n",
    "    print('Evaluating Test data')\n",
    "    y_test_pred = algo.predict(x_test) \n",
    "    rmse_test, mape_test = get_error_metrics(y_true=y_test.values, y_pred=y_test_pred)\n",
    "    # store them in our test results dictionary.\n",
    "    test_results = {'rmse': rmse_test,\n",
    "                    'mape' : mape_test,\n",
    "                    'predictions':y_test_pred}\n",
    "    if verbose:\n",
    "        print('\\nTEST DATA')\n",
    "        print('-'*30)\n",
    "        print('RMSE : ', rmse_test)\n",
    "        print('MAPE : ', mape_test)\n",
    "        \n",
    "    # return these train and test results...\n",
    "    return train_results, test_results\n",
    "    "
   ]
  },
  {
   "cell_type": "code",
   "execution_count": 65,
   "id": "1d111131",
   "metadata": {
    "execution": {
     "iopub.execute_input": "2024-05-05T09:15:56.061883Z",
     "iopub.status.busy": "2024-05-05T09:15:56.061579Z",
     "iopub.status.idle": "2024-05-05T09:15:56.076896Z",
     "shell.execute_reply": "2024-05-05T09:15:56.076062Z"
    },
    "papermill": {
     "duration": 0.049963,
     "end_time": "2024-05-05T09:15:56.078749",
     "exception": false,
     "start_time": "2024-05-05T09:15:56.028786",
     "status": "completed"
    },
    "tags": []
   },
   "outputs": [],
   "source": [
    "# it is just to makesure that all of our algorithms should produce same results\n",
    "# everytime they run...\n",
    "\n",
    "my_seed = 15\n",
    "random.seed(my_seed)\n",
    "np.random.seed(my_seed)\n",
    "\n",
    "##########################################################\n",
    "# get  (actual_list , predicted_list) ratings given list \n",
    "# of predictions (prediction is a class in Surprise).    \n",
    "##########################################################\n",
    "def get_ratings(predictions):\n",
    "    actual = np.array([pred.r_ui for pred in predictions])\n",
    "    pred = np.array([pred.est for pred in predictions])\n",
    "    \n",
    "    return actual, pred\n",
    "\n",
    "################################################################\n",
    "# get ''rmse'' and ''mape'' , given list of prediction objecs \n",
    "################################################################\n",
    "def get_errors(predictions, print_them=False):\n",
    "\n",
    "    actual, pred = get_ratings(predictions)\n",
    "    rmse = np.sqrt(np.mean((pred - actual)**2))\n",
    "    mape = np.mean(np.abs(pred - actual)/actual)\n",
    "\n",
    "    return rmse, mape*100\n",
    "\n",
    "##################################################################################\n",
    "# It will return predicted ratings, rmse and mape of both train and test data   #\n",
    "##################################################################################\n",
    "def run_surprise(algo, trainset, testset, verbose=True): \n",
    "    '''\n",
    "        return train_dict, test_dict\n",
    "    \n",
    "        It returns two dictionaries, one for train and the other is for test\n",
    "        Each of them have 3 key-value pairs, which specify ''rmse'', ''mape'', and ''predicted ratings''.\n",
    "    '''\n",
    "    start = datetime.now()\n",
    "    # dictionaries that stores metrics for train and test..\n",
    "    train = dict()\n",
    "    test = dict()\n",
    "    \n",
    "    # train the algorithm with the trainset\n",
    "    st = datetime.now()\n",
    "    print('Training the model...')\n",
    "    algo.fit(trainset)\n",
    "    print('Done. time taken : {} \\n'.format(datetime.now()-st))\n",
    "    \n",
    "    # ---------------- Evaluating train data--------------------#\n",
    "    st = datetime.now()\n",
    "    print('Evaluating the model with train data..')\n",
    "    # get the train predictions (list of prediction class inside Surprise)\n",
    "    train_preds = algo.test(trainset.build_testset())\n",
    "    # get predicted ratings from the train predictions..\n",
    "    train_actual_ratings, train_pred_ratings = get_ratings(train_preds)\n",
    "    # get ''rmse'' and ''mape'' from the train predictions.\n",
    "    train_rmse, train_mape = get_errors(train_preds)\n",
    "    print('time taken : {}'.format(datetime.now()-st))\n",
    "    \n",
    "    if verbose:\n",
    "        print('-'*15)\n",
    "        print('Train Data')\n",
    "        print('-'*15)\n",
    "        print(\"RMSE : {}\\n\\nMAPE : {}\\n\".format(train_rmse, train_mape))\n",
    "    \n",
    "    #store them in the train dictionary\n",
    "    if verbose:\n",
    "        print('adding train results in the dictionary..')\n",
    "    train['rmse'] = train_rmse\n",
    "    train['mape'] = train_mape\n",
    "    train['predictions'] = train_pred_ratings\n",
    "    \n",
    "    #------------ Evaluating Test data---------------#\n",
    "    st = datetime.now()\n",
    "    print('\\nEvaluating for test data...')\n",
    "    # get the predictions( list of prediction classes) of test data\n",
    "    test_preds = algo.test(testset)\n",
    "    # get the predicted ratings from the list of predictions\n",
    "    test_actual_ratings, test_pred_ratings = get_ratings(test_preds)\n",
    "    # get error metrics from the predicted and actual ratings\n",
    "    test_rmse, test_mape = get_errors(test_preds)\n",
    "    print('time taken : {}'.format(datetime.now()-st))\n",
    "    \n",
    "    if verbose:\n",
    "        print('-'*15)\n",
    "        print('Test Data')\n",
    "        print('-'*15)\n",
    "        print(\"RMSE : {}\\n\\nMAPE : {}\\n\".format(test_rmse, test_mape))\n",
    "    # store them in test dictionary\n",
    "    if verbose:\n",
    "        print('storing the test results in test dictionary...')\n",
    "    test['rmse'] = test_rmse\n",
    "    test['mape'] = test_mape\n",
    "    test['predictions'] = test_pred_ratings\n",
    "    \n",
    "    print('\\n'+'-'*45)\n",
    "    print('Total time taken to run this algorithm :', datetime.now() - start)\n",
    "    \n",
    "    # return two dictionaries train and test\n",
    "    return train, test"
   ]
  },
  {
   "cell_type": "code",
   "execution_count": 66,
   "id": "48d9b642",
   "metadata": {
    "execution": {
     "iopub.execute_input": "2024-05-05T09:15:56.144599Z",
     "iopub.status.busy": "2024-05-05T09:15:56.144323Z",
     "iopub.status.idle": "2024-05-05T09:15:56.309529Z",
     "shell.execute_reply": "2024-05-05T09:15:56.308794Z"
    },
    "papermill": {
     "duration": 0.201287,
     "end_time": "2024-05-05T09:15:56.311876",
     "exception": false,
     "start_time": "2024-05-05T09:15:56.110589",
     "status": "completed"
    },
    "tags": []
   },
   "outputs": [],
   "source": [
    "import xgboost as xgb"
   ]
  },
  {
   "cell_type": "code",
   "execution_count": 67,
   "id": "ef8d620a",
   "metadata": {
    "execution": {
     "iopub.execute_input": "2024-05-05T09:15:56.382871Z",
     "iopub.status.busy": "2024-05-05T09:15:56.382281Z",
     "iopub.status.idle": "2024-05-05T09:15:57.929928Z",
     "shell.execute_reply": "2024-05-05T09:15:57.929002Z"
    },
    "papermill": {
     "duration": 1.583426,
     "end_time": "2024-05-05T09:15:57.931990",
     "exception": false,
     "start_time": "2024-05-05T09:15:56.348564",
     "status": "completed"
    },
    "tags": []
   },
   "outputs": [
    {
     "name": "stdout",
     "output_type": "stream",
     "text": [
      "Training the model..\n",
      "Done. Time taken : 0:00:00.672417\n",
      "\n",
      "Done \n",
      "\n",
      "Evaluating the model with TRAIN data...\n",
      "Evaluating Test data\n",
      "\n",
      "TEST DATA\n",
      "------------------------------\n",
      "RMSE :  1.1745147754185474\n",
      "MAPE :  38.63897397324223\n"
     ]
    },
    {
     "data": {
      "image/png": "[encoded data removed]",
      "text/plain": [
       "<Figure size 640x480 with 1 Axes>"
      ]
     },
     "metadata": {},
     "output_type": "display_data"
    }
   ],
   "source": [
    "# prepare Train data\n",
    "x_train = reg_train.drop(['user','movie','rating'], axis=1)\n",
    "y_train = reg_train['rating']\n",
    "\n",
    "# Prepare Test data\n",
    "x_test = reg_test_df.drop(['user','movie','rating'], axis=1)\n",
    "y_test = reg_test_df['rating']\n",
    "\n",
    "# initialize Our first XGBoost model...\n",
    "first_xgb = xgb.XGBRegressor(silent=False, n_jobs=13, random_state=15, n_estimators=100)\n",
    "train_results, test_results = run_xgboost(first_xgb, x_train, y_train, x_test, y_test)\n",
    "\n",
    "# store the results in models_evaluations dictionaries\n",
    "models_evaluation_train['first_algo'] = train_results\n",
    "models_evaluation_test['first_algo'] = test_results\n",
    "\n",
    "xgb.plot_importance(first_xgb)\n",
    "plt.show()"
   ]
  },
  {
   "cell_type": "code",
   "execution_count": 68,
   "id": "bebfed0a",
   "metadata": {
    "execution": {
     "iopub.execute_input": "2024-05-05T09:15:58.000590Z",
     "iopub.status.busy": "2024-05-05T09:15:58.000290Z",
     "iopub.status.idle": "2024-05-05T09:15:58.004246Z",
     "shell.execute_reply": "2024-05-05T09:15:58.003405Z"
    },
    "papermill": {
     "duration": 0.040078,
     "end_time": "2024-05-05T09:15:58.006127",
     "exception": false,
     "start_time": "2024-05-05T09:15:57.966049",
     "status": "completed"
    },
    "tags": []
   },
   "outputs": [],
   "source": [
    "from surprise import BaselineOnly "
   ]
  },
  {
   "cell_type": "code",
   "execution_count": 69,
   "id": "3f8110e4",
   "metadata": {
    "execution": {
     "iopub.execute_input": "2024-05-05T09:15:58.073428Z",
     "iopub.status.busy": "2024-05-05T09:15:58.073126Z",
     "iopub.status.idle": "2024-05-05T09:15:59.537261Z",
     "shell.execute_reply": "2024-05-05T09:15:59.536103Z"
    },
    "papermill": {
     "duration": 1.500214,
     "end_time": "2024-05-05T09:15:59.539391",
     "exception": false,
     "start_time": "2024-05-05T09:15:58.039177",
     "status": "completed"
    },
    "tags": []
   },
   "outputs": [
    {
     "name": "stdout",
     "output_type": "stream",
     "text": [
      "Training the model...\n",
      "Estimating biases using sgd...\n",
      "Done. time taken : 0:00:00.435898 \n",
      "\n",
      "Evaluating the model with train data..\n",
      "time taken : 0:00:00.810871\n",
      "---------------\n",
      "Train Data\n",
      "---------------\n",
      "RMSE : 0.9540313296695998\n",
      "\n",
      "MAPE : 30.67055543142137\n",
      "\n",
      "adding train results in the dictionary..\n",
      "\n",
      "Evaluating for test data...\n",
      "time taken : 0:00:00.194290\n",
      "---------------\n",
      "Test Data\n",
      "---------------\n",
      "RMSE : 1.0813834661183348\n",
      "\n",
      "MAPE : 33.661671184328746\n",
      "\n",
      "storing the test results in test dictionary...\n",
      "\n",
      "---------------------------------------------\n",
      "Total time taken to run this algorithm : 0:00:01.441418\n"
     ]
    }
   ],
   "source": [
    "# options are to specify.., how to compute those user and item biases\n",
    "bsl_options = {'method': 'sgd',\n",
    "               'learning_rate': .001\n",
    "               }\n",
    "bsl_algo = BaselineOnly(bsl_options=bsl_options)\n",
    "# run this algorithm.., It will return the train and test results..\n",
    "bsl_train_results, bsl_test_results = run_surprise(bsl_algo, trainset, testset, verbose=True)\n",
    "\n",
    "\n",
    "# Just store these error metrics in our models_evaluation datastructure\n",
    "models_evaluation_train['bsl_algo'] = bsl_train_results \n",
    "models_evaluation_test['bsl_algo'] = bsl_test_results"
   ]
  },
  {
   "cell_type": "code",
   "execution_count": 70,
   "id": "9e580fda",
   "metadata": {
    "execution": {
     "iopub.execute_input": "2024-05-05T09:15:59.608801Z",
     "iopub.status.busy": "2024-05-05T09:15:59.608451Z",
     "iopub.status.idle": "2024-05-05T09:15:59.627656Z",
     "shell.execute_reply": "2024-05-05T09:15:59.626812Z"
    },
    "papermill": {
     "duration": 0.055403,
     "end_time": "2024-05-05T09:15:59.629793",
     "exception": false,
     "start_time": "2024-05-05T09:15:59.574390",
     "status": "completed"
    },
    "tags": []
   },
   "outputs": [
    {
     "data": {
      "text/html": [
       "<div>\n",
       "<style scoped>\n",
       "    .dataframe tbody tr th:only-of-type {\n",
       "        vertical-align: middle;\n",
       "    }\n",
       "\n",
       "    .dataframe tbody tr th {\n",
       "        vertical-align: top;\n",
       "    }\n",
       "\n",
       "    .dataframe thead th {\n",
       "        text-align: right;\n",
       "    }\n",
       "</style>\n",
       "<table border=\"1\" class=\"dataframe\">\n",
       "  <thead>\n",
       "    <tr style=\"text-align: right;\">\n",
       "      <th></th>\n",
       "      <th>user</th>\n",
       "      <th>movie</th>\n",
       "      <th>GAvg</th>\n",
       "      <th>sur1</th>\n",
       "      <th>sur2</th>\n",
       "      <th>sur3</th>\n",
       "      <th>sur4</th>\n",
       "      <th>sur5</th>\n",
       "      <th>smr1</th>\n",
       "      <th>smr2</th>\n",
       "      <th>smr3</th>\n",
       "      <th>smr4</th>\n",
       "      <th>smr5</th>\n",
       "      <th>UAvg</th>\n",
       "      <th>MAvg</th>\n",
       "      <th>rating</th>\n",
       "      <th>bslpr</th>\n",
       "    </tr>\n",
       "  </thead>\n",
       "  <tbody>\n",
       "    <tr>\n",
       "      <th>0</th>\n",
       "      <td>7</td>\n",
       "      <td>9229</td>\n",
       "      <td>3.506847</td>\n",
       "      <td>4.0</td>\n",
       "      <td>4.0</td>\n",
       "      <td>3.0</td>\n",
       "      <td>4.0</td>\n",
       "      <td>3.0</td>\n",
       "      <td>4.0</td>\n",
       "      <td>2.0</td>\n",
       "      <td>5.0</td>\n",
       "      <td>3.0</td>\n",
       "      <td>4.0</td>\n",
       "      <td>3.846154</td>\n",
       "      <td>3.497354</td>\n",
       "      <td>3</td>\n",
       "      <td>3.717723</td>\n",
       "    </tr>\n",
       "    <tr>\n",
       "      <th>1</th>\n",
       "      <td>7</td>\n",
       "      <td>9471</td>\n",
       "      <td>3.506847</td>\n",
       "      <td>2.0</td>\n",
       "      <td>3.0</td>\n",
       "      <td>4.0</td>\n",
       "      <td>5.0</td>\n",
       "      <td>3.0</td>\n",
       "      <td>4.0</td>\n",
       "      <td>3.0</td>\n",
       "      <td>5.0</td>\n",
       "      <td>2.0</td>\n",
       "      <td>2.0</td>\n",
       "      <td>3.846154</td>\n",
       "      <td>3.730362</td>\n",
       "      <td>3</td>\n",
       "      <td>3.898261</td>\n",
       "    </tr>\n",
       "  </tbody>\n",
       "</table>\n",
       "</div>"
      ],
      "text/plain": [
       "   user  movie      GAvg  sur1  sur2  sur3  sur4  sur5  smr1  smr2  smr3  \\\n",
       "0     7   9229  3.506847   4.0   4.0   3.0   4.0   3.0   4.0   2.0   5.0   \n",
       "1     7   9471  3.506847   2.0   3.0   4.0   5.0   3.0   4.0   3.0   5.0   \n",
       "\n",
       "   smr4  smr5      UAvg      MAvg  rating     bslpr  \n",
       "0   3.0   4.0  3.846154  3.497354       3  3.717723  \n",
       "1   2.0   2.0  3.846154  3.730362       3  3.898261  "
      ]
     },
     "execution_count": 70,
     "metadata": {},
     "output_type": "execute_result"
    }
   ],
   "source": [
    "# add our baseline_predicted value as our feature..\n",
    "reg_train['bslpr'] = models_evaluation_train['bsl_algo']['predictions']\n",
    "reg_train.head(2) "
   ]
  },
  {
   "cell_type": "code",
   "execution_count": 71,
   "id": "5be5ae7b",
   "metadata": {
    "execution": {
     "iopub.execute_input": "2024-05-05T09:15:59.700344Z",
     "iopub.status.busy": "2024-05-05T09:15:59.700051Z",
     "iopub.status.idle": "2024-05-05T09:15:59.718234Z",
     "shell.execute_reply": "2024-05-05T09:15:59.717372Z"
    },
    "papermill": {
     "duration": 0.05473,
     "end_time": "2024-05-05T09:15:59.720312",
     "exception": false,
     "start_time": "2024-05-05T09:15:59.665582",
     "status": "completed"
    },
    "tags": []
   },
   "outputs": [
    {
     "data": {
      "text/html": [
       "<div>\n",
       "<style scoped>\n",
       "    .dataframe tbody tr th:only-of-type {\n",
       "        vertical-align: middle;\n",
       "    }\n",
       "\n",
       "    .dataframe tbody tr th {\n",
       "        vertical-align: top;\n",
       "    }\n",
       "\n",
       "    .dataframe thead th {\n",
       "        text-align: right;\n",
       "    }\n",
       "</style>\n",
       "<table border=\"1\" class=\"dataframe\">\n",
       "  <thead>\n",
       "    <tr style=\"text-align: right;\">\n",
       "      <th></th>\n",
       "      <th>user</th>\n",
       "      <th>movie</th>\n",
       "      <th>GAvg</th>\n",
       "      <th>sur1</th>\n",
       "      <th>sur2</th>\n",
       "      <th>sur3</th>\n",
       "      <th>sur4</th>\n",
       "      <th>sur5</th>\n",
       "      <th>smr1</th>\n",
       "      <th>smr2</th>\n",
       "      <th>smr3</th>\n",
       "      <th>smr4</th>\n",
       "      <th>smr5</th>\n",
       "      <th>UAvg</th>\n",
       "      <th>MAvg</th>\n",
       "      <th>rating</th>\n",
       "      <th>bslpr</th>\n",
       "    </tr>\n",
       "  </thead>\n",
       "  <tbody>\n",
       "    <tr>\n",
       "      <th>0</th>\n",
       "      <td>756</td>\n",
       "      <td>9552</td>\n",
       "      <td>3.506847</td>\n",
       "      <td>3.506847</td>\n",
       "      <td>3.506847</td>\n",
       "      <td>3.506847</td>\n",
       "      <td>3.506847</td>\n",
       "      <td>3.506847</td>\n",
       "      <td>3.506847</td>\n",
       "      <td>3.506847</td>\n",
       "      <td>3.506847</td>\n",
       "      <td>3.506847</td>\n",
       "      <td>3.506847</td>\n",
       "      <td>3.506847</td>\n",
       "      <td>3.506847</td>\n",
       "      <td>2</td>\n",
       "      <td>3.506847</td>\n",
       "    </tr>\n",
       "    <tr>\n",
       "      <th>1</th>\n",
       "      <td>756</td>\n",
       "      <td>11427</td>\n",
       "      <td>3.506847</td>\n",
       "      <td>3.000000</td>\n",
       "      <td>1.000000</td>\n",
       "      <td>5.000000</td>\n",
       "      <td>4.000000</td>\n",
       "      <td>4.000000</td>\n",
       "      <td>3.506847</td>\n",
       "      <td>3.506847</td>\n",
       "      <td>3.506847</td>\n",
       "      <td>3.506847</td>\n",
       "      <td>3.506847</td>\n",
       "      <td>3.506847</td>\n",
       "      <td>3.773913</td>\n",
       "      <td>4</td>\n",
       "      <td>3.843061</td>\n",
       "    </tr>\n",
       "  </tbody>\n",
       "</table>\n",
       "</div>"
      ],
      "text/plain": [
       "   user  movie      GAvg      sur1      sur2      sur3      sur4      sur5  \\\n",
       "0   756   9552  3.506847  3.506847  3.506847  3.506847  3.506847  3.506847   \n",
       "1   756  11427  3.506847  3.000000  1.000000  5.000000  4.000000  4.000000   \n",
       "\n",
       "       smr1      smr2      smr3      smr4      smr5      UAvg      MAvg  \\\n",
       "0  3.506847  3.506847  3.506847  3.506847  3.506847  3.506847  3.506847   \n",
       "1  3.506847  3.506847  3.506847  3.506847  3.506847  3.506847  3.773913   \n",
       "\n",
       "   rating     bslpr  \n",
       "0       2  3.506847  \n",
       "1       4  3.843061  "
      ]
     },
     "execution_count": 71,
     "metadata": {},
     "output_type": "execute_result"
    }
   ],
   "source": [
    "# add that baseline predicted ratings with Surprise to the test data as well\n",
    "reg_test_df['bslpr']  = models_evaluation_test['bsl_algo']['predictions']\n",
    "\n",
    "reg_test_df.head(2)"
   ]
  },
  {
   "cell_type": "code",
   "execution_count": 72,
   "id": "70ca0b18",
   "metadata": {
    "execution": {
     "iopub.execute_input": "2024-05-05T09:15:59.791319Z",
     "iopub.status.busy": "2024-05-05T09:15:59.791058Z",
     "iopub.status.idle": "2024-05-05T09:16:01.287150Z",
     "shell.execute_reply": "2024-05-05T09:16:01.286295Z"
    },
    "papermill": {
     "duration": 1.53309,
     "end_time": "2024-05-05T09:16:01.289460",
     "exception": false,
     "start_time": "2024-05-05T09:15:59.756370",
     "status": "completed"
    },
    "tags": []
   },
   "outputs": [
    {
     "name": "stdout",
     "output_type": "stream",
     "text": [
      "Training the model..\n",
      "Done. Time taken : 0:00:00.562870\n",
      "\n",
      "Done \n",
      "\n",
      "Evaluating the model with TRAIN data...\n",
      "Evaluating Test data\n",
      "\n",
      "TEST DATA\n",
      "------------------------------\n",
      "RMSE :  1.0863057979069375\n",
      "MAPE :  35.15453734988457\n"
     ]
    },
    {
     "data": {
      "image/png": "[encoded data removed]",
      "text/plain": [
       "<Figure size 640x480 with 1 Axes>"
      ]
     },
     "metadata": {},
     "output_type": "display_data"
    }
   ],
   "source": [
    "# prepare train data\n",
    "x_train = reg_train.drop(['user', 'movie','rating'], axis=1)\n",
    "y_train = reg_train['rating']\n",
    "\n",
    "# Prepare Test data\n",
    "x_test = reg_test_df.drop(['user','movie','rating'], axis=1)\n",
    "y_test = reg_test_df['rating']\n",
    "\n",
    "# initialize Our first XGBoost model...\n",
    "xgb_bsl = xgb.XGBRegressor(silent=False, n_jobs=13, random_state=15, n_estimators=100)\n",
    "train_results, test_results = run_xgboost(xgb_bsl, x_train, y_train, x_test, y_test)\n",
    "\n",
    "# store the results in models_evaluations dictionaries\n",
    "models_evaluation_train['xgb_bsl'] = train_results\n",
    "models_evaluation_test['xgb_bsl'] = test_results\n",
    "\n",
    "xgb.plot_importance(xgb_bsl)\n",
    "plt.show()"
   ]
  },
  {
   "cell_type": "code",
   "execution_count": 73,
   "id": "8c4a1951",
   "metadata": {
    "execution": {
     "iopub.execute_input": "2024-05-05T09:16:01.360324Z",
     "iopub.status.busy": "2024-05-05T09:16:01.360026Z",
     "iopub.status.idle": "2024-05-05T09:16:01.364282Z",
     "shell.execute_reply": "2024-05-05T09:16:01.363477Z"
    },
    "papermill": {
     "duration": 0.041498,
     "end_time": "2024-05-05T09:16:01.366118",
     "exception": false,
     "start_time": "2024-05-05T09:16:01.324620",
     "status": "completed"
    },
    "tags": []
   },
   "outputs": [],
   "source": [
    "from surprise import KNNBaseline"
   ]
  },
  {
   "cell_type": "code",
   "execution_count": 74,
   "id": "b65c2c9b",
   "metadata": {
    "execution": {
     "iopub.execute_input": "2024-05-05T09:16:01.437127Z",
     "iopub.status.busy": "2024-05-05T09:16:01.436840Z",
     "iopub.status.idle": "2024-05-05T09:18:16.660195Z",
     "shell.execute_reply": "2024-05-05T09:18:16.659219Z"
    },
    "papermill": {
     "duration": 135.29957,
     "end_time": "2024-05-05T09:18:16.700501",
     "exception": false,
     "start_time": "2024-05-05T09:16:01.400931",
     "status": "completed"
    },
    "tags": []
   },
   "outputs": [
    {
     "name": "stdout",
     "output_type": "stream",
     "text": [
      "Training the model...\n",
      "Estimating biases using sgd...\n",
      "Computing the pearson_baseline similarity matrix...\n",
      "Done computing similarity matrix.\n",
      "Done. time taken : 0:00:10.704446 \n",
      "\n",
      "Evaluating the model with train data..\n",
      "time taken : 0:02:04.370244\n",
      "---------------\n",
      "Train Data\n",
      "---------------\n",
      "RMSE : 0.3052155379184955\n",
      "\n",
      "MAPE : 8.438296719582052\n",
      "\n",
      "adding train results in the dictionary..\n",
      "\n",
      "Evaluating for test data...\n",
      "time taken : 0:00:00.110484\n",
      "---------------\n",
      "Test Data\n",
      "---------------\n",
      "RMSE : 1.0820434919980766\n",
      "\n",
      "MAPE : 33.62405338738885\n",
      "\n",
      "storing the test results in test dictionary...\n",
      "\n",
      "---------------------------------------------\n",
      "Total time taken to run this algorithm : 0:02:15.185511\n"
     ]
    }
   ],
   "source": [
    "\n",
    "# we specify , how to compute similarities and what to consider with sim_options to our algorithm\n",
    "sim_options = {'user_based' : True,\n",
    "               'name': 'pearson_baseline',\n",
    "               'shrinkage': 100,\n",
    "               'min_support': 2\n",
    "              } \n",
    "# we keep other parameters like regularization parameter and learning_rate as default values.\n",
    "bsl_options = {'method': 'sgd'} \n",
    "\n",
    "knn_bsl_u = KNNBaseline(k=40, sim_options = sim_options, bsl_options = bsl_options)\n",
    "knn_bsl_u_train_results, knn_bsl_u_test_results = run_surprise(knn_bsl_u, trainset, testset, verbose=True)\n",
    "\n",
    "# Just store these error metrics in our models_evaluation datastructure\n",
    "models_evaluation_train['knn_bsl_u'] = knn_bsl_u_train_results \n",
    "models_evaluation_test['knn_bsl_u'] = knn_bsl_u_test_results"
   ]
  },
  {
   "cell_type": "code",
   "execution_count": 75,
   "id": "c463ee30",
   "metadata": {
    "execution": {
     "iopub.execute_input": "2024-05-05T09:18:16.771841Z",
     "iopub.status.busy": "2024-05-05T09:18:16.770954Z",
     "iopub.status.idle": "2024-05-05T09:18:25.850006Z",
     "shell.execute_reply": "2024-05-05T09:18:25.849073Z"
    },
    "papermill": {
     "duration": 9.116609,
     "end_time": "2024-05-05T09:18:25.852127",
     "exception": false,
     "start_time": "2024-05-05T09:18:16.735518",
     "status": "completed"
    },
    "tags": []
   },
   "outputs": [
    {
     "name": "stdout",
     "output_type": "stream",
     "text": [
      "Training the model...\n",
      "Estimating biases using sgd...\n",
      "Computing the pearson_baseline similarity matrix...\n",
      "Done computing similarity matrix.\n",
      "Done. time taken : 0:00:00.531375 \n",
      "\n",
      "Evaluating the model with train data..\n",
      "time taken : 0:00:08.440454\n",
      "---------------\n",
      "Train Data\n",
      "---------------\n",
      "RMSE : 0.29267760543603455\n",
      "\n",
      "MAPE : 7.653490036199203\n",
      "\n",
      "adding train results in the dictionary..\n",
      "\n",
      "Evaluating for test data...\n",
      "time taken : 0:00:00.082610\n",
      "---------------\n",
      "Test Data\n",
      "---------------\n",
      "RMSE : 1.0822239214973646\n",
      "\n",
      "MAPE : 33.62521948328281\n",
      "\n",
      "storing the test results in test dictionary...\n",
      "\n",
      "---------------------------------------------\n",
      "Total time taken to run this algorithm : 0:00:09.054793\n"
     ]
    }
   ],
   "source": [
    "# we specify , how to compute similarities and what to consider with sim_options to our algorithm\n",
    "\n",
    "# 'user_based' : Fals => this considers the similarities of movies instead of users\n",
    "\n",
    "sim_options = {'user_based' : False,\n",
    "               'name': 'pearson_baseline',\n",
    "               'shrinkage': 100,\n",
    "               'min_support': 2\n",
    "              } \n",
    "# we keep other parameters like regularization parameter and learning_rate as default values.\n",
    "bsl_options = {'method': 'sgd'}\n",
    "\n",
    "\n",
    "knn_bsl_m = KNNBaseline(k=40, sim_options = sim_options, bsl_options = bsl_options)\n",
    "\n",
    "knn_bsl_m_train_results, knn_bsl_m_test_results = run_surprise(knn_bsl_m, trainset, testset, verbose=True)\n",
    "\n",
    "# Just store these error metrics in our models_evaluation datastructure\n",
    "models_evaluation_train['knn_bsl_m'] = knn_bsl_m_train_results \n",
    "models_evaluation_test['knn_bsl_m'] = knn_bsl_m_test_results"
   ]
  },
  {
   "cell_type": "code",
   "execution_count": 76,
   "id": "11f901a5",
   "metadata": {
    "execution": {
     "iopub.execute_input": "2024-05-05T09:18:25.925367Z",
     "iopub.status.busy": "2024-05-05T09:18:25.924519Z",
     "iopub.status.idle": "2024-05-05T09:18:25.946601Z",
     "shell.execute_reply": "2024-05-05T09:18:25.945688Z"
    },
    "papermill": {
     "duration": 0.060654,
     "end_time": "2024-05-05T09:18:25.948632",
     "exception": false,
     "start_time": "2024-05-05T09:18:25.887978",
     "status": "completed"
    },
    "tags": []
   },
   "outputs": [
    {
     "data": {
      "text/html": [
       "<div>\n",
       "<style scoped>\n",
       "    .dataframe tbody tr th:only-of-type {\n",
       "        vertical-align: middle;\n",
       "    }\n",
       "\n",
       "    .dataframe tbody tr th {\n",
       "        vertical-align: top;\n",
       "    }\n",
       "\n",
       "    .dataframe thead th {\n",
       "        text-align: right;\n",
       "    }\n",
       "</style>\n",
       "<table border=\"1\" class=\"dataframe\">\n",
       "  <thead>\n",
       "    <tr style=\"text-align: right;\">\n",
       "      <th></th>\n",
       "      <th>user</th>\n",
       "      <th>movie</th>\n",
       "      <th>GAvg</th>\n",
       "      <th>sur1</th>\n",
       "      <th>sur2</th>\n",
       "      <th>sur3</th>\n",
       "      <th>sur4</th>\n",
       "      <th>sur5</th>\n",
       "      <th>smr1</th>\n",
       "      <th>smr2</th>\n",
       "      <th>smr3</th>\n",
       "      <th>smr4</th>\n",
       "      <th>smr5</th>\n",
       "      <th>UAvg</th>\n",
       "      <th>MAvg</th>\n",
       "      <th>rating</th>\n",
       "      <th>bslpr</th>\n",
       "      <th>knn_bsl_u</th>\n",
       "      <th>knn_bsl_m</th>\n",
       "    </tr>\n",
       "  </thead>\n",
       "  <tbody>\n",
       "    <tr>\n",
       "      <th>0</th>\n",
       "      <td>7</td>\n",
       "      <td>9229</td>\n",
       "      <td>3.506847</td>\n",
       "      <td>4.0</td>\n",
       "      <td>4.0</td>\n",
       "      <td>3.0</td>\n",
       "      <td>4.0</td>\n",
       "      <td>3.0</td>\n",
       "      <td>4.0</td>\n",
       "      <td>2.0</td>\n",
       "      <td>5.0</td>\n",
       "      <td>3.0</td>\n",
       "      <td>4.0</td>\n",
       "      <td>3.846154</td>\n",
       "      <td>3.497354</td>\n",
       "      <td>3</td>\n",
       "      <td>3.717723</td>\n",
       "      <td>3.392601</td>\n",
       "      <td>3.434940</td>\n",
       "    </tr>\n",
       "    <tr>\n",
       "      <th>1</th>\n",
       "      <td>7</td>\n",
       "      <td>9471</td>\n",
       "      <td>3.506847</td>\n",
       "      <td>2.0</td>\n",
       "      <td>3.0</td>\n",
       "      <td>4.0</td>\n",
       "      <td>5.0</td>\n",
       "      <td>3.0</td>\n",
       "      <td>4.0</td>\n",
       "      <td>3.0</td>\n",
       "      <td>5.0</td>\n",
       "      <td>2.0</td>\n",
       "      <td>2.0</td>\n",
       "      <td>3.846154</td>\n",
       "      <td>3.730362</td>\n",
       "      <td>3</td>\n",
       "      <td>3.898261</td>\n",
       "      <td>3.385700</td>\n",
       "      <td>3.347491</td>\n",
       "    </tr>\n",
       "  </tbody>\n",
       "</table>\n",
       "</div>"
      ],
      "text/plain": [
       "   user  movie      GAvg  sur1  sur2  sur3  sur4  sur5  smr1  smr2  smr3  \\\n",
       "0     7   9229  3.506847   4.0   4.0   3.0   4.0   3.0   4.0   2.0   5.0   \n",
       "1     7   9471  3.506847   2.0   3.0   4.0   5.0   3.0   4.0   3.0   5.0   \n",
       "\n",
       "   smr4  smr5      UAvg      MAvg  rating     bslpr  knn_bsl_u  knn_bsl_m  \n",
       "0   3.0   4.0  3.846154  3.497354       3  3.717723   3.392601   3.434940  \n",
       "1   2.0   2.0  3.846154  3.730362       3  3.898261   3.385700   3.347491  "
      ]
     },
     "execution_count": 76,
     "metadata": {},
     "output_type": "execute_result"
    }
   ],
   "source": [
    "# add the predicted values from both knns to this dataframe\n",
    "reg_train['knn_bsl_u'] = models_evaluation_train['knn_bsl_u']['predictions']\n",
    "reg_train['knn_bsl_m'] = models_evaluation_train['knn_bsl_m']['predictions']\n",
    "\n",
    "reg_train.head(2)"
   ]
  },
  {
   "cell_type": "code",
   "execution_count": 77,
   "id": "21ff32e1",
   "metadata": {
    "execution": {
     "iopub.execute_input": "2024-05-05T09:18:26.020174Z",
     "iopub.status.busy": "2024-05-05T09:18:26.019885Z",
     "iopub.status.idle": "2024-05-05T09:18:26.039204Z",
     "shell.execute_reply": "2024-05-05T09:18:26.038372Z"
    },
    "papermill": {
     "duration": 0.057047,
     "end_time": "2024-05-05T09:18:26.040968",
     "exception": false,
     "start_time": "2024-05-05T09:18:25.983921",
     "status": "completed"
    },
    "tags": []
   },
   "outputs": [
    {
     "data": {
      "text/html": [
       "<div>\n",
       "<style scoped>\n",
       "    .dataframe tbody tr th:only-of-type {\n",
       "        vertical-align: middle;\n",
       "    }\n",
       "\n",
       "    .dataframe tbody tr th {\n",
       "        vertical-align: top;\n",
       "    }\n",
       "\n",
       "    .dataframe thead th {\n",
       "        text-align: right;\n",
       "    }\n",
       "</style>\n",
       "<table border=\"1\" class=\"dataframe\">\n",
       "  <thead>\n",
       "    <tr style=\"text-align: right;\">\n",
       "      <th></th>\n",
       "      <th>user</th>\n",
       "      <th>movie</th>\n",
       "      <th>GAvg</th>\n",
       "      <th>sur1</th>\n",
       "      <th>sur2</th>\n",
       "      <th>sur3</th>\n",
       "      <th>sur4</th>\n",
       "      <th>sur5</th>\n",
       "      <th>smr1</th>\n",
       "      <th>smr2</th>\n",
       "      <th>smr3</th>\n",
       "      <th>smr4</th>\n",
       "      <th>smr5</th>\n",
       "      <th>UAvg</th>\n",
       "      <th>MAvg</th>\n",
       "      <th>rating</th>\n",
       "      <th>bslpr</th>\n",
       "      <th>knn_bsl_u</th>\n",
       "      <th>knn_bsl_m</th>\n",
       "    </tr>\n",
       "  </thead>\n",
       "  <tbody>\n",
       "    <tr>\n",
       "      <th>0</th>\n",
       "      <td>756</td>\n",
       "      <td>9552</td>\n",
       "      <td>3.506847</td>\n",
       "      <td>3.506847</td>\n",
       "      <td>3.506847</td>\n",
       "      <td>3.506847</td>\n",
       "      <td>3.506847</td>\n",
       "      <td>3.506847</td>\n",
       "      <td>3.506847</td>\n",
       "      <td>3.506847</td>\n",
       "      <td>3.506847</td>\n",
       "      <td>3.506847</td>\n",
       "      <td>3.506847</td>\n",
       "      <td>3.506847</td>\n",
       "      <td>3.506847</td>\n",
       "      <td>2</td>\n",
       "      <td>3.506847</td>\n",
       "      <td>3.506847</td>\n",
       "      <td>3.506847</td>\n",
       "    </tr>\n",
       "    <tr>\n",
       "      <th>1</th>\n",
       "      <td>756</td>\n",
       "      <td>11427</td>\n",
       "      <td>3.506847</td>\n",
       "      <td>3.000000</td>\n",
       "      <td>1.000000</td>\n",
       "      <td>5.000000</td>\n",
       "      <td>4.000000</td>\n",
       "      <td>4.000000</td>\n",
       "      <td>3.506847</td>\n",
       "      <td>3.506847</td>\n",
       "      <td>3.506847</td>\n",
       "      <td>3.506847</td>\n",
       "      <td>3.506847</td>\n",
       "      <td>3.506847</td>\n",
       "      <td>3.773913</td>\n",
       "      <td>4</td>\n",
       "      <td>3.843061</td>\n",
       "      <td>3.947352</td>\n",
       "      <td>3.947352</td>\n",
       "    </tr>\n",
       "  </tbody>\n",
       "</table>\n",
       "</div>"
      ],
      "text/plain": [
       "   user  movie      GAvg      sur1      sur2      sur3      sur4      sur5  \\\n",
       "0   756   9552  3.506847  3.506847  3.506847  3.506847  3.506847  3.506847   \n",
       "1   756  11427  3.506847  3.000000  1.000000  5.000000  4.000000  4.000000   \n",
       "\n",
       "       smr1      smr2      smr3      smr4      smr5      UAvg      MAvg  \\\n",
       "0  3.506847  3.506847  3.506847  3.506847  3.506847  3.506847  3.506847   \n",
       "1  3.506847  3.506847  3.506847  3.506847  3.506847  3.506847  3.773913   \n",
       "\n",
       "   rating     bslpr  knn_bsl_u  knn_bsl_m  \n",
       "0       2  3.506847   3.506847   3.506847  \n",
       "1       4  3.843061   3.947352   3.947352  "
      ]
     },
     "execution_count": 77,
     "metadata": {},
     "output_type": "execute_result"
    }
   ],
   "source": [
    "reg_test_df['knn_bsl_u'] = models_evaluation_test['knn_bsl_u']['predictions']\n",
    "reg_test_df['knn_bsl_m'] = models_evaluation_test['knn_bsl_m']['predictions']\n",
    "\n",
    "reg_test_df.head(2)"
   ]
  },
  {
   "cell_type": "code",
   "execution_count": 78,
   "id": "bc321bb2",
   "metadata": {
    "execution": {
     "iopub.execute_input": "2024-05-05T09:18:26.114430Z",
     "iopub.status.busy": "2024-05-05T09:18:26.114139Z",
     "iopub.status.idle": "2024-05-05T09:18:27.769242Z",
     "shell.execute_reply": "2024-05-05T09:18:27.768250Z"
    },
    "papermill": {
     "duration": 1.69547,
     "end_time": "2024-05-05T09:18:27.771521",
     "exception": false,
     "start_time": "2024-05-05T09:18:26.076051",
     "status": "completed"
    },
    "tags": []
   },
   "outputs": [
    {
     "name": "stdout",
     "output_type": "stream",
     "text": [
      "Training the model..\n",
      "Done. Time taken : 0:00:00.753526\n",
      "\n",
      "Done \n",
      "\n",
      "Evaluating the model with TRAIN data...\n",
      "Evaluating Test data\n",
      "\n",
      "TEST DATA\n",
      "------------------------------\n",
      "RMSE :  1.0941529947228599\n",
      "MAPE :  34.11748312003128\n"
     ]
    },
    {
     "data": {
      "image/png": "[encoded data removed]",
      "text/plain": [
       "<Figure size 640x480 with 1 Axes>"
      ]
     },
     "metadata": {},
     "output_type": "display_data"
    }
   ],
   "source": [
    "# prepare the train data....\n",
    "x_train = reg_train.drop(['user', 'movie', 'rating'], axis=1)\n",
    "y_train = reg_train['rating']\n",
    "\n",
    "# prepare the train data....\n",
    "x_test = reg_test_df.drop(['user','movie','rating'], axis=1)\n",
    "y_test = reg_test_df['rating']\n",
    "\n",
    "# declare the model\n",
    "xgb_knn_bsl = xgb.XGBRegressor(n_jobs=10, random_state=15)\n",
    "train_results, test_results = run_xgboost(xgb_knn_bsl, x_train, y_train, x_test, y_test)\n",
    "\n",
    "# store the results in models_evaluations dictionaries\n",
    "models_evaluation_train['xgb_knn_bsl'] = train_results\n",
    "models_evaluation_test['xgb_knn_bsl'] = test_results\n",
    "\n",
    "\n",
    "xgb.plot_importance(xgb_knn_bsl)\n",
    "plt.show()"
   ]
  },
  {
   "cell_type": "code",
   "execution_count": 79,
   "id": "5a35f7ec",
   "metadata": {
    "execution": {
     "iopub.execute_input": "2024-05-05T09:18:27.847719Z",
     "iopub.status.busy": "2024-05-05T09:18:27.847364Z",
     "iopub.status.idle": "2024-05-05T09:18:27.851582Z",
     "shell.execute_reply": "2024-05-05T09:18:27.850702Z"
    },
    "papermill": {
     "duration": 0.043964,
     "end_time": "2024-05-05T09:18:27.853456",
     "exception": false,
     "start_time": "2024-05-05T09:18:27.809492",
     "status": "completed"
    },
    "tags": []
   },
   "outputs": [],
   "source": [
    "from surprise import SVD"
   ]
  },
  {
   "cell_type": "code",
   "execution_count": 80,
   "id": "ff6e8422",
   "metadata": {
    "execution": {
     "iopub.execute_input": "2024-05-05T09:18:27.927726Z",
     "iopub.status.busy": "2024-05-05T09:18:27.927405Z",
     "iopub.status.idle": "2024-05-05T09:18:30.500220Z",
     "shell.execute_reply": "2024-05-05T09:18:30.498853Z"
    },
    "papermill": {
     "duration": 2.612293,
     "end_time": "2024-05-05T09:18:30.502343",
     "exception": false,
     "start_time": "2024-05-05T09:18:27.890050",
     "status": "completed"
    },
    "tags": []
   },
   "outputs": [
    {
     "name": "stdout",
     "output_type": "stream",
     "text": [
      "Training the model...\n",
      "Processing epoch 0\n",
      "Processing epoch 1\n",
      "Processing epoch 2\n",
      "Processing epoch 3\n",
      "Processing epoch 4\n",
      "Processing epoch 5\n",
      "Processing epoch 6\n",
      "Processing epoch 7\n",
      "Processing epoch 8\n",
      "Processing epoch 9\n",
      "Processing epoch 10\n",
      "Processing epoch 11\n",
      "Processing epoch 12\n",
      "Processing epoch 13\n",
      "Processing epoch 14\n",
      "Processing epoch 15\n",
      "Processing epoch 16\n",
      "Processing epoch 17\n",
      "Processing epoch 18\n",
      "Processing epoch 19\n",
      "Done. time taken : 0:00:01.255701 \n",
      "\n",
      "Evaluating the model with train data..\n",
      "time taken : 0:00:01.216267\n",
      "---------------\n",
      "Train Data\n",
      "---------------\n",
      "RMSE : 0.6589686540711817\n",
      "\n",
      "MAPE : 20.35242724204985\n",
      "\n",
      "adding train results in the dictionary..\n",
      "\n",
      "Evaluating for test data...\n",
      "time taken : 0:00:00.076991\n",
      "---------------\n",
      "Test Data\n",
      "---------------\n",
      "RMSE : 1.0809529337955952\n",
      "\n",
      "MAPE : 33.602288372491884\n",
      "\n",
      "storing the test results in test dictionary...\n",
      "\n",
      "---------------------------------------------\n",
      "Total time taken to run this algorithm : 0:00:02.549299\n"
     ]
    }
   ],
   "source": [
    "# initiallize the model\n",
    "svd = SVD(n_factors=100, biased=True, random_state=15, verbose=True)\n",
    "svd_train_results, svd_test_results = run_surprise(svd, trainset, testset, verbose=True)\n",
    "\n",
    "# Just store these error metrics in our models_evaluation datastructure\n",
    "models_evaluation_train['svd'] = svd_train_results \n",
    "models_evaluation_test['svd'] = svd_test_results"
   ]
  },
  {
   "cell_type": "code",
   "execution_count": 81,
   "id": "88843071",
   "metadata": {
    "execution": {
     "iopub.execute_input": "2024-05-05T09:18:30.578318Z",
     "iopub.status.busy": "2024-05-05T09:18:30.578000Z",
     "iopub.status.idle": "2024-05-05T09:18:30.582219Z",
     "shell.execute_reply": "2024-05-05T09:18:30.581323Z"
    },
    "papermill": {
     "duration": 0.044048,
     "end_time": "2024-05-05T09:18:30.584058",
     "exception": false,
     "start_time": "2024-05-05T09:18:30.540010",
     "status": "completed"
    },
    "tags": []
   },
   "outputs": [],
   "source": [
    "from surprise import SVDpp"
   ]
  },
  {
   "cell_type": "code",
   "execution_count": 82,
   "id": "5279020c",
   "metadata": {
    "execution": {
     "iopub.execute_input": "2024-05-05T09:18:30.661909Z",
     "iopub.status.busy": "2024-05-05T09:18:30.661261Z",
     "iopub.status.idle": "2024-05-05T09:19:04.598934Z",
     "shell.execute_reply": "2024-05-05T09:19:04.598006Z"
    },
    "papermill": {
     "duration": 34.017948,
     "end_time": "2024-05-05T09:19:04.639806",
     "exception": false,
     "start_time": "2024-05-05T09:18:30.621858",
     "status": "completed"
    },
    "tags": []
   },
   "outputs": [
    {
     "name": "stdout",
     "output_type": "stream",
     "text": [
      "Training the model...\n",
      " processing epoch 0\n",
      " processing epoch 1\n",
      " processing epoch 2\n",
      " processing epoch 3\n",
      " processing epoch 4\n",
      " processing epoch 5\n",
      " processing epoch 6\n",
      " processing epoch 7\n",
      " processing epoch 8\n",
      " processing epoch 9\n",
      " processing epoch 10\n",
      " processing epoch 11\n",
      " processing epoch 12\n",
      " processing epoch 13\n",
      " processing epoch 14\n",
      " processing epoch 15\n",
      " processing epoch 16\n",
      " processing epoch 17\n",
      " processing epoch 18\n",
      " processing epoch 19\n",
      "Done. time taken : 0:00:27.357174 \n",
      "\n",
      "Evaluating the model with train data..\n",
      "time taken : 0:00:06.473581\n",
      "---------------\n",
      "Train Data\n",
      "---------------\n",
      "RMSE : 0.6016377712341373\n",
      "\n",
      "MAPE : 18.05879323853391\n",
      "\n",
      "adding train results in the dictionary..\n",
      "\n",
      "Evaluating for test data...\n",
      "time taken : 0:00:00.083655\n",
      "---------------\n",
      "Test Data\n",
      "---------------\n",
      "RMSE : 1.0819318642765392\n",
      "\n",
      "MAPE : 33.588017592680835\n",
      "\n",
      "storing the test results in test dictionary...\n",
      "\n",
      "---------------------------------------------\n",
      "Total time taken to run this algorithm : 0:00:33.914780\n"
     ]
    }
   ],
   "source": [
    "# initiallize the model\n",
    "svdpp = SVDpp(n_factors=50, random_state=15, verbose=True)\n",
    "svdpp_train_results, svdpp_test_results = run_surprise(svdpp, trainset, testset, verbose=True)\n",
    "\n",
    "# Just store these error metrics in our models_evaluation datastructure\n",
    "models_evaluation_train['svdpp'] = svdpp_train_results \n",
    "models_evaluation_test['svdpp'] = svdpp_test_results"
   ]
  },
  {
   "cell_type": "code",
   "execution_count": 83,
   "id": "81652145",
   "metadata": {
    "execution": {
     "iopub.execute_input": "2024-05-05T09:19:04.720148Z",
     "iopub.status.busy": "2024-05-05T09:19:04.719523Z",
     "iopub.status.idle": "2024-05-05T09:19:04.744605Z",
     "shell.execute_reply": "2024-05-05T09:19:04.743706Z"
    },
    "papermill": {
     "duration": 0.06815,
     "end_time": "2024-05-05T09:19:04.746616",
     "exception": false,
     "start_time": "2024-05-05T09:19:04.678466",
     "status": "completed"
    },
    "tags": []
   },
   "outputs": [
    {
     "data": {
      "text/html": [
       "<div>\n",
       "<style scoped>\n",
       "    .dataframe tbody tr th:only-of-type {\n",
       "        vertical-align: middle;\n",
       "    }\n",
       "\n",
       "    .dataframe tbody tr th {\n",
       "        vertical-align: top;\n",
       "    }\n",
       "\n",
       "    .dataframe thead th {\n",
       "        text-align: right;\n",
       "    }\n",
       "</style>\n",
       "<table border=\"1\" class=\"dataframe\">\n",
       "  <thead>\n",
       "    <tr style=\"text-align: right;\">\n",
       "      <th></th>\n",
       "      <th>user</th>\n",
       "      <th>movie</th>\n",
       "      <th>GAvg</th>\n",
       "      <th>sur1</th>\n",
       "      <th>sur2</th>\n",
       "      <th>sur3</th>\n",
       "      <th>sur4</th>\n",
       "      <th>sur5</th>\n",
       "      <th>smr1</th>\n",
       "      <th>smr2</th>\n",
       "      <th>...</th>\n",
       "      <th>smr4</th>\n",
       "      <th>smr5</th>\n",
       "      <th>UAvg</th>\n",
       "      <th>MAvg</th>\n",
       "      <th>rating</th>\n",
       "      <th>bslpr</th>\n",
       "      <th>knn_bsl_u</th>\n",
       "      <th>knn_bsl_m</th>\n",
       "      <th>svd</th>\n",
       "      <th>svdpp</th>\n",
       "    </tr>\n",
       "  </thead>\n",
       "  <tbody>\n",
       "    <tr>\n",
       "      <th>0</th>\n",
       "      <td>7</td>\n",
       "      <td>9229</td>\n",
       "      <td>3.506847</td>\n",
       "      <td>4.0</td>\n",
       "      <td>4.0</td>\n",
       "      <td>3.0</td>\n",
       "      <td>4.0</td>\n",
       "      <td>3.0</td>\n",
       "      <td>4.0</td>\n",
       "      <td>2.0</td>\n",
       "      <td>...</td>\n",
       "      <td>3.0</td>\n",
       "      <td>4.0</td>\n",
       "      <td>3.846154</td>\n",
       "      <td>3.497354</td>\n",
       "      <td>3</td>\n",
       "      <td>3.717723</td>\n",
       "      <td>3.392601</td>\n",
       "      <td>3.434940</td>\n",
       "      <td>3.745441</td>\n",
       "      <td>3.800659</td>\n",
       "    </tr>\n",
       "    <tr>\n",
       "      <th>1</th>\n",
       "      <td>7</td>\n",
       "      <td>9471</td>\n",
       "      <td>3.506847</td>\n",
       "      <td>2.0</td>\n",
       "      <td>3.0</td>\n",
       "      <td>4.0</td>\n",
       "      <td>5.0</td>\n",
       "      <td>3.0</td>\n",
       "      <td>4.0</td>\n",
       "      <td>3.0</td>\n",
       "      <td>...</td>\n",
       "      <td>2.0</td>\n",
       "      <td>2.0</td>\n",
       "      <td>3.846154</td>\n",
       "      <td>3.730362</td>\n",
       "      <td>3</td>\n",
       "      <td>3.898261</td>\n",
       "      <td>3.385700</td>\n",
       "      <td>3.347491</td>\n",
       "      <td>3.706969</td>\n",
       "      <td>3.490726</td>\n",
       "    </tr>\n",
       "  </tbody>\n",
       "</table>\n",
       "<p>2 rows × 21 columns</p>\n",
       "</div>"
      ],
      "text/plain": [
       "   user  movie      GAvg  sur1  sur2  sur3  sur4  sur5  smr1  smr2  ...  smr4  \\\n",
       "0     7   9229  3.506847   4.0   4.0   3.0   4.0   3.0   4.0   2.0  ...   3.0   \n",
       "1     7   9471  3.506847   2.0   3.0   4.0   5.0   3.0   4.0   3.0  ...   2.0   \n",
       "\n",
       "   smr5      UAvg      MAvg  rating     bslpr  knn_bsl_u  knn_bsl_m       svd  \\\n",
       "0   4.0  3.846154  3.497354       3  3.717723   3.392601   3.434940  3.745441   \n",
       "1   2.0  3.846154  3.730362       3  3.898261   3.385700   3.347491  3.706969   \n",
       "\n",
       "      svdpp  \n",
       "0  3.800659  \n",
       "1  3.490726  \n",
       "\n",
       "[2 rows x 21 columns]"
      ]
     },
     "execution_count": 83,
     "metadata": {},
     "output_type": "execute_result"
    }
   ],
   "source": [
    "# add the predicted values from both knns to this dataframe\n",
    "reg_train['svd'] = models_evaluation_train['svd']['predictions']\n",
    "reg_train['svdpp'] = models_evaluation_train['svdpp']['predictions']\n",
    "\n",
    "reg_train.head(2) "
   ]
  },
  {
   "cell_type": "code",
   "execution_count": 84,
   "id": "dd191a30",
   "metadata": {
    "execution": {
     "iopub.execute_input": "2024-05-05T09:19:04.828850Z",
     "iopub.status.busy": "2024-05-05T09:19:04.828072Z",
     "iopub.status.idle": "2024-05-05T09:19:04.850860Z",
     "shell.execute_reply": "2024-05-05T09:19:04.849938Z"
    },
    "papermill": {
     "duration": 0.066306,
     "end_time": "2024-05-05T09:19:04.852895",
     "exception": false,
     "start_time": "2024-05-05T09:19:04.786589",
     "status": "completed"
    },
    "tags": []
   },
   "outputs": [
    {
     "data": {
      "text/html": [
       "<div>\n",
       "<style scoped>\n",
       "    .dataframe tbody tr th:only-of-type {\n",
       "        vertical-align: middle;\n",
       "    }\n",
       "\n",
       "    .dataframe tbody tr th {\n",
       "        vertical-align: top;\n",
       "    }\n",
       "\n",
       "    .dataframe thead th {\n",
       "        text-align: right;\n",
       "    }\n",
       "</style>\n",
       "<table border=\"1\" class=\"dataframe\">\n",
       "  <thead>\n",
       "    <tr style=\"text-align: right;\">\n",
       "      <th></th>\n",
       "      <th>user</th>\n",
       "      <th>movie</th>\n",
       "      <th>GAvg</th>\n",
       "      <th>sur1</th>\n",
       "      <th>sur2</th>\n",
       "      <th>sur3</th>\n",
       "      <th>sur4</th>\n",
       "      <th>sur5</th>\n",
       "      <th>smr1</th>\n",
       "      <th>smr2</th>\n",
       "      <th>...</th>\n",
       "      <th>smr4</th>\n",
       "      <th>smr5</th>\n",
       "      <th>UAvg</th>\n",
       "      <th>MAvg</th>\n",
       "      <th>rating</th>\n",
       "      <th>bslpr</th>\n",
       "      <th>knn_bsl_u</th>\n",
       "      <th>knn_bsl_m</th>\n",
       "      <th>svd</th>\n",
       "      <th>svdpp</th>\n",
       "    </tr>\n",
       "  </thead>\n",
       "  <tbody>\n",
       "    <tr>\n",
       "      <th>0</th>\n",
       "      <td>756</td>\n",
       "      <td>9552</td>\n",
       "      <td>3.506847</td>\n",
       "      <td>3.506847</td>\n",
       "      <td>3.506847</td>\n",
       "      <td>3.506847</td>\n",
       "      <td>3.506847</td>\n",
       "      <td>3.506847</td>\n",
       "      <td>3.506847</td>\n",
       "      <td>3.506847</td>\n",
       "      <td>...</td>\n",
       "      <td>3.506847</td>\n",
       "      <td>3.506847</td>\n",
       "      <td>3.506847</td>\n",
       "      <td>3.506847</td>\n",
       "      <td>2</td>\n",
       "      <td>3.506847</td>\n",
       "      <td>3.506847</td>\n",
       "      <td>3.506847</td>\n",
       "      <td>3.506847</td>\n",
       "      <td>3.506847</td>\n",
       "    </tr>\n",
       "    <tr>\n",
       "      <th>1</th>\n",
       "      <td>756</td>\n",
       "      <td>11427</td>\n",
       "      <td>3.506847</td>\n",
       "      <td>3.000000</td>\n",
       "      <td>1.000000</td>\n",
       "      <td>5.000000</td>\n",
       "      <td>4.000000</td>\n",
       "      <td>4.000000</td>\n",
       "      <td>3.506847</td>\n",
       "      <td>3.506847</td>\n",
       "      <td>...</td>\n",
       "      <td>3.506847</td>\n",
       "      <td>3.506847</td>\n",
       "      <td>3.506847</td>\n",
       "      <td>3.773913</td>\n",
       "      <td>4</td>\n",
       "      <td>3.843061</td>\n",
       "      <td>3.947352</td>\n",
       "      <td>3.947352</td>\n",
       "      <td>3.849121</td>\n",
       "      <td>3.612502</td>\n",
       "    </tr>\n",
       "  </tbody>\n",
       "</table>\n",
       "<p>2 rows × 21 columns</p>\n",
       "</div>"
      ],
      "text/plain": [
       "   user  movie      GAvg      sur1      sur2      sur3      sur4      sur5  \\\n",
       "0   756   9552  3.506847  3.506847  3.506847  3.506847  3.506847  3.506847   \n",
       "1   756  11427  3.506847  3.000000  1.000000  5.000000  4.000000  4.000000   \n",
       "\n",
       "       smr1      smr2  ...      smr4      smr5      UAvg      MAvg  rating  \\\n",
       "0  3.506847  3.506847  ...  3.506847  3.506847  3.506847  3.506847       2   \n",
       "1  3.506847  3.506847  ...  3.506847  3.506847  3.506847  3.773913       4   \n",
       "\n",
       "      bslpr  knn_bsl_u  knn_bsl_m       svd     svdpp  \n",
       "0  3.506847   3.506847   3.506847  3.506847  3.506847  \n",
       "1  3.843061   3.947352   3.947352  3.849121  3.612502  \n",
       "\n",
       "[2 rows x 21 columns]"
      ]
     },
     "execution_count": 84,
     "metadata": {},
     "output_type": "execute_result"
    }
   ],
   "source": [
    "reg_test_df['svd'] = models_evaluation_test['svd']['predictions']\n",
    "reg_test_df['svdpp'] = models_evaluation_test['svdpp']['predictions']\n",
    "\n",
    "reg_test_df.head(2) "
   ]
  },
  {
   "cell_type": "code",
   "execution_count": 85,
   "id": "44128969",
   "metadata": {
    "execution": {
     "iopub.execute_input": "2024-05-05T09:19:04.933754Z",
     "iopub.status.busy": "2024-05-05T09:19:04.933428Z",
     "iopub.status.idle": "2024-05-05T09:19:06.626750Z",
     "shell.execute_reply": "2024-05-05T09:19:06.625718Z"
    },
    "papermill": {
     "duration": 1.736149,
     "end_time": "2024-05-05T09:19:06.629112",
     "exception": false,
     "start_time": "2024-05-05T09:19:04.892963",
     "status": "completed"
    },
    "tags": []
   },
   "outputs": [
    {
     "name": "stdout",
     "output_type": "stream",
     "text": [
      "Training the model..\n",
      "Done. Time taken : 0:00:00.702324\n",
      "\n",
      "Done \n",
      "\n",
      "Evaluating the model with TRAIN data...\n",
      "Evaluating Test data\n",
      "\n",
      "TEST DATA\n",
      "------------------------------\n",
      "RMSE :  1.0950683060223516\n",
      "MAPE :  33.929022394068866\n"
     ]
    },
    {
     "data": {
      "image/png": "[encoded data removed]",
      "text/plain": [
       "<Figure size 640x480 with 1 Axes>"
      ]
     },
     "metadata": {},
     "output_type": "display_data"
    }
   ],
   "source": [
    "# prepare x_train and y_train\n",
    "x_train = reg_train.drop(['user', 'movie', 'rating',], axis=1)\n",
    "y_train = reg_train['rating']\n",
    "\n",
    "# prepare test data\n",
    "x_test = reg_test_df.drop(['user', 'movie', 'rating'], axis=1)\n",
    "y_test = reg_test_df['rating']\n",
    "\n",
    "\n",
    "\n",
    "xgb_final = xgb.XGBRegressor(n_jobs=10, random_state=15)\n",
    "train_results, test_results = run_xgboost(xgb_final, x_train, y_train, x_test, y_test)\n",
    "\n",
    "# store the results in models_evaluations dictionaries\n",
    "models_evaluation_train['xgb_final'] = train_results\n",
    "models_evaluation_test['xgb_final'] = test_results\n",
    "\n",
    "\n",
    "xgb.plot_importance(xgb_final)\n",
    "plt.show()"
   ]
  },
  {
   "cell_type": "code",
   "execution_count": 86,
   "id": "eb0ec0fc",
   "metadata": {
    "execution": {
     "iopub.execute_input": "2024-05-05T09:19:06.713661Z",
     "iopub.status.busy": "2024-05-05T09:19:06.713008Z",
     "iopub.status.idle": "2024-05-05T09:19:07.825730Z",
     "shell.execute_reply": "2024-05-05T09:19:07.824796Z"
    },
    "papermill": {
     "duration": 1.157017,
     "end_time": "2024-05-05T09:19:07.827938",
     "exception": false,
     "start_time": "2024-05-05T09:19:06.670921",
     "status": "completed"
    },
    "tags": []
   },
   "outputs": [
    {
     "name": "stdout",
     "output_type": "stream",
     "text": [
      "Training the model..\n",
      "Done. Time taken : 0:00:00.311387\n",
      "\n",
      "Done \n",
      "\n",
      "Evaluating the model with TRAIN data...\n",
      "Evaluating Test data\n",
      "\n",
      "TEST DATA\n",
      "------------------------------\n",
      "RMSE :  1.1034080150894496\n",
      "MAPE :  33.3094747076723\n"
     ]
    },
    {
     "data": {
      "image/png": "[encoded data removed]",
      "text/plain": [
       "<Figure size 640x480 with 1 Axes>"
      ]
     },
     "metadata": {},
     "output_type": "display_data"
    }
   ],
   "source": [
    "# prepare train data\n",
    "x_train = reg_train[['knn_bsl_u', 'knn_bsl_m', 'svd', 'svdpp']]\n",
    "y_train = reg_train['rating']\n",
    "\n",
    "# test data\n",
    "x_test = reg_test_df[['knn_bsl_u', 'knn_bsl_m', 'svd', 'svdpp']]\n",
    "y_test = reg_test_df['rating']\n",
    "\n",
    "\n",
    "xgb_all_models = xgb.XGBRegressor(n_jobs=10, random_state=15)\n",
    "train_results, test_results = run_xgboost(xgb_all_models, x_train, y_train, x_test, y_test)\n",
    "\n",
    "# store the results in models_evaluations dictionaries\n",
    "models_evaluation_train['xgb_all_models'] = train_results\n",
    "models_evaluation_test['xgb_all_models'] = test_results\n",
    "\n",
    "xgb.plot_importance(xgb_all_models)\n",
    "plt.show()"
   ]
  },
  {
   "cell_type": "code",
   "execution_count": 87,
   "id": "5ad6dda3",
   "metadata": {
    "execution": {
     "iopub.execute_input": "2024-05-05T09:19:07.916919Z",
     "iopub.status.busy": "2024-05-05T09:19:07.916235Z",
     "iopub.status.idle": "2024-05-05T09:19:07.932679Z",
     "shell.execute_reply": "2024-05-05T09:19:07.931806Z"
    },
    "papermill": {
     "duration": 0.063769,
     "end_time": "2024-05-05T09:19:07.934606",
     "exception": false,
     "start_time": "2024-05-05T09:19:07.870837",
     "status": "completed"
    },
    "tags": []
   },
   "outputs": [
    {
     "data": {
      "text/plain": [
       "svd               1.0809529337955952\n",
       "bsl_algo          1.0813834661183348\n",
       "svdpp             1.0819318642765392\n",
       "knn_bsl_u         1.0820434919980766\n",
       "knn_bsl_m         1.0822239214973646\n",
       "xgb_bsl           1.0863057979069375\n",
       "xgb_knn_bsl       1.0941529947228599\n",
       "xgb_final         1.0950683060223516\n",
       "xgb_all_models    1.1034080150894496\n",
       "first_algo        1.1745147754185474\n",
       "Name: rmse, dtype: object"
      ]
     },
     "execution_count": 87,
     "metadata": {},
     "output_type": "execute_result"
    }
   ],
   "source": [
    "# Saving our TEST_RESULTS into a dataframe so that you don't have to run it again\n",
    "pd.DataFrame(models_evaluation_test).to_csv('small_sample_results.csv')\n",
    "models = pd.read_csv('small_sample_results.csv', index_col=0)\n",
    "models.loc['rmse'].sort_values()"
   ]
  },
  {
   "cell_type": "code",
   "execution_count": 88,
   "id": "a2f45d2c",
   "metadata": {
    "execution": {
     "iopub.execute_input": "2024-05-05T09:19:08.018890Z",
     "iopub.status.busy": "2024-05-05T09:19:08.018568Z",
     "iopub.status.idle": "2024-05-05T09:19:08.023422Z",
     "shell.execute_reply": "2024-05-05T09:19:08.022582Z"
    },
    "papermill": {
     "duration": 0.049092,
     "end_time": "2024-05-05T09:19:08.025574",
     "exception": false,
     "start_time": "2024-05-05T09:19:07.976482",
     "status": "completed"
    },
    "tags": []
   },
   "outputs": [
    {
     "name": "stdout",
     "output_type": "stream",
     "text": [
      "----------------------------------------------------------------------------------------------------\n",
      "Total time taken to run this entire notebook ( with saved files) is : 0:08:35.287278\n"
     ]
    }
   ],
   "source": [
    "print(\"-\"*100)\n",
    "print(\"Total time taken to run this entire notebook ( with saved files) is :\",datetime.now()-globalstart)"
   ]
  }
 ],
 "metadata": {
  "colab": {
   "provenance": [],
   "toc_visible": true
  },
  "kaggle": {
   "accelerator": "gpu",
   "dataSources": [
    {
     "datasetId": 1636,
     "sourceId": 792972,
     "sourceType": "datasetVersion"
    },
    {
     "datasetId": 4922249,
     "sourceId": 8287186,
     "sourceType": "datasetVersion"
    },
    {
     "datasetId": 4922590,
     "sourceId": 8287609,
     "sourceType": "datasetVersion"
    }
   ],
   "dockerImageVersionId": 30699,
   "isGpuEnabled": true,
   "isInternetEnabled": false,
   "language": "python",
   "sourceType": "notebook"
  },
  "kernelspec": {
   "display_name": "Python 3",
   "language": "python",
   "name": "python3"
  },
  "language_info": {
   "codemirror_mode": {
    "name": "ipython",
    "version": 3
   },
   "file_extension": ".py",
   "mimetype": "text/x-python",
   "name": "python",
   "nbconvert_exporter": "python",
   "pygments_lexer": "ipython3",
   "version": "3.10.13"
  },
  "papermill": {
   "default_parameters": {},
   "duration": 519.785637,
   "end_time": "2024-05-05T09:19:08.888812",
   "environment_variables": {},
   "exception": null,
   "input_path": "__notebook__.ipynb",
   "output_path": "__notebook__.ipynb",
   "parameters": {},
   "start_time": "2024-05-05T09:10:29.103175",
   "version": "2.5.0"
  }
 },
 "nbformat": 4,
 "nbformat_minor": 5
}
